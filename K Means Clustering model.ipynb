{
 "cells": [
  {
   "cell_type": "markdown",
   "metadata": {},
   "source": [
    "# Abstract:"
   ]
  },
  {
   "cell_type": "markdown",
   "metadata": {},
   "source": [
    "### A key challenge for e-commerce businesses is to analyze the trend in the market to increase their sales. The trend can be easily observed if the companies can group the customers; based on their activity on the e-commerce site. This grouping can be done by applying different criteria like previous orders, mostly searched brands and so on."
   ]
  },
  {
   "cell_type": "markdown",
   "metadata": {},
   "source": [
    "# Problem Statement:"
   ]
  },
  {
   "cell_type": "markdown",
   "metadata": {},
   "source": [
    "### Given the e-commerce data, use k-means clustering algorithm to cluster customers with similar interest."
   ]
  },
  {
   "cell_type": "markdown",
   "metadata": {},
   "source": [
    "# Dataset Information:"
   ]
  },
  {
   "cell_type": "markdown",
   "metadata": {},
   "source": [
    "### The data was collected from a well known e-commerce website over a period of time based on the customer’s search profile."
   ]
  },
  {
   "cell_type": "markdown",
   "metadata": {},
   "source": [
    "# Variable Description:"
   ]
  },
  {
   "cell_type": "markdown",
   "metadata": {},
   "source": [
    "### Cust_ID=Unique numbering for customers\n",
    "### Gender=Gender of the customer\n",
    "### Orders=Number of orders placed by each customer in the past"
   ]
  },
  {
   "cell_type": "markdown",
   "metadata": {},
   "source": [
    "# Remaining 35 features (brands) contains the number of times customers have searched them"
   ]
  },
  {
   "cell_type": "markdown",
   "metadata": {},
   "source": [
    "<a id='import_packages'></a>\n",
    "## 1. Import Packages"
   ]
  },
  {
   "cell_type": "code",
   "execution_count": 1,
   "metadata": {
    "ExecuteTime": {
     "end_time": "2022-02-25T13:23:53.907135Z",
     "start_time": "2022-02-25T13:23:52.203227Z"
    }
   },
   "outputs": [],
   "source": [
    "import numpy as np\n",
    "import pandas as pd\n",
    "import matplotlib.pyplot as plt\n",
    "%matplotlib inline\n",
    "import seaborn as sns\n",
    "\n",
    "sns.set()\n",
    "from warnings import filterwarnings\n",
    "filterwarnings('ignore')"
   ]
  },
  {
   "cell_type": "markdown",
   "metadata": {},
   "source": [
    "<a id='Read_Data'></a>\n",
    "## 2. Read the Data"
   ]
  },
  {
   "cell_type": "code",
   "execution_count": 2,
   "metadata": {
    "ExecuteTime": {
     "end_time": "2022-02-25T13:24:08.161488Z",
     "start_time": "2022-02-25T13:23:57.084029Z"
    }
   },
   "outputs": [
    {
     "data": {
      "text/html": [
       "<div>\n",
       "<style scoped>\n",
       "    .dataframe tbody tr th:only-of-type {\n",
       "        vertical-align: middle;\n",
       "    }\n",
       "\n",
       "    .dataframe tbody tr th {\n",
       "        vertical-align: top;\n",
       "    }\n",
       "\n",
       "    .dataframe thead th {\n",
       "        text-align: right;\n",
       "    }\n",
       "</style>\n",
       "<table border=\"1\" class=\"dataframe\">\n",
       "  <thead>\n",
       "    <tr style=\"text-align: right;\">\n",
       "      <th></th>\n",
       "      <th>Gender</th>\n",
       "      <th>Orders</th>\n",
       "      <th>Jordan</th>\n",
       "      <th>Gatorade</th>\n",
       "      <th>Samsung</th>\n",
       "      <th>Asus</th>\n",
       "      <th>Udis</th>\n",
       "      <th>Mondelez International</th>\n",
       "      <th>Wrangler</th>\n",
       "      <th>Vans</th>\n",
       "      <th>...</th>\n",
       "      <th>LG</th>\n",
       "      <th>Dior</th>\n",
       "      <th>Scabal</th>\n",
       "      <th>Tommy Hilfiger</th>\n",
       "      <th>Hollister</th>\n",
       "      <th>Forever 21</th>\n",
       "      <th>Colavita</th>\n",
       "      <th>Microsoft</th>\n",
       "      <th>Jiffy mix</th>\n",
       "      <th>Kraft</th>\n",
       "    </tr>\n",
       "    <tr>\n",
       "      <th>Cust_ID</th>\n",
       "      <th></th>\n",
       "      <th></th>\n",
       "      <th></th>\n",
       "      <th></th>\n",
       "      <th></th>\n",
       "      <th></th>\n",
       "      <th></th>\n",
       "      <th></th>\n",
       "      <th></th>\n",
       "      <th></th>\n",
       "      <th></th>\n",
       "      <th></th>\n",
       "      <th></th>\n",
       "      <th></th>\n",
       "      <th></th>\n",
       "      <th></th>\n",
       "      <th></th>\n",
       "      <th></th>\n",
       "      <th></th>\n",
       "      <th></th>\n",
       "      <th></th>\n",
       "    </tr>\n",
       "  </thead>\n",
       "  <tbody>\n",
       "    <tr>\n",
       "      <th>1</th>\n",
       "      <td>M</td>\n",
       "      <td>7</td>\n",
       "      <td>0</td>\n",
       "      <td>0</td>\n",
       "      <td>0</td>\n",
       "      <td>0</td>\n",
       "      <td>0</td>\n",
       "      <td>0</td>\n",
       "      <td>0</td>\n",
       "      <td>2</td>\n",
       "      <td>...</td>\n",
       "      <td>0</td>\n",
       "      <td>0</td>\n",
       "      <td>0</td>\n",
       "      <td>0</td>\n",
       "      <td>0</td>\n",
       "      <td>0</td>\n",
       "      <td>0</td>\n",
       "      <td>0</td>\n",
       "      <td>0</td>\n",
       "      <td>0</td>\n",
       "    </tr>\n",
       "    <tr>\n",
       "      <th>2</th>\n",
       "      <td>F</td>\n",
       "      <td>0</td>\n",
       "      <td>0</td>\n",
       "      <td>1</td>\n",
       "      <td>0</td>\n",
       "      <td>0</td>\n",
       "      <td>0</td>\n",
       "      <td>0</td>\n",
       "      <td>0</td>\n",
       "      <td>0</td>\n",
       "      <td>...</td>\n",
       "      <td>0</td>\n",
       "      <td>1</td>\n",
       "      <td>0</td>\n",
       "      <td>0</td>\n",
       "      <td>0</td>\n",
       "      <td>0</td>\n",
       "      <td>0</td>\n",
       "      <td>0</td>\n",
       "      <td>0</td>\n",
       "      <td>0</td>\n",
       "    </tr>\n",
       "    <tr>\n",
       "      <th>3</th>\n",
       "      <td>M</td>\n",
       "      <td>7</td>\n",
       "      <td>0</td>\n",
       "      <td>1</td>\n",
       "      <td>0</td>\n",
       "      <td>0</td>\n",
       "      <td>0</td>\n",
       "      <td>0</td>\n",
       "      <td>0</td>\n",
       "      <td>0</td>\n",
       "      <td>...</td>\n",
       "      <td>0</td>\n",
       "      <td>0</td>\n",
       "      <td>0</td>\n",
       "      <td>0</td>\n",
       "      <td>0</td>\n",
       "      <td>0</td>\n",
       "      <td>0</td>\n",
       "      <td>1</td>\n",
       "      <td>0</td>\n",
       "      <td>0</td>\n",
       "    </tr>\n",
       "    <tr>\n",
       "      <th>4</th>\n",
       "      <td>F</td>\n",
       "      <td>0</td>\n",
       "      <td>0</td>\n",
       "      <td>0</td>\n",
       "      <td>0</td>\n",
       "      <td>0</td>\n",
       "      <td>0</td>\n",
       "      <td>0</td>\n",
       "      <td>0</td>\n",
       "      <td>0</td>\n",
       "      <td>...</td>\n",
       "      <td>0</td>\n",
       "      <td>0</td>\n",
       "      <td>0</td>\n",
       "      <td>0</td>\n",
       "      <td>0</td>\n",
       "      <td>0</td>\n",
       "      <td>0</td>\n",
       "      <td>0</td>\n",
       "      <td>0</td>\n",
       "      <td>0</td>\n",
       "    </tr>\n",
       "    <tr>\n",
       "      <th>5</th>\n",
       "      <td>NaN</td>\n",
       "      <td>10</td>\n",
       "      <td>0</td>\n",
       "      <td>0</td>\n",
       "      <td>0</td>\n",
       "      <td>0</td>\n",
       "      <td>0</td>\n",
       "      <td>0</td>\n",
       "      <td>0</td>\n",
       "      <td>0</td>\n",
       "      <td>...</td>\n",
       "      <td>0</td>\n",
       "      <td>0</td>\n",
       "      <td>2</td>\n",
       "      <td>0</td>\n",
       "      <td>0</td>\n",
       "      <td>0</td>\n",
       "      <td>0</td>\n",
       "      <td>0</td>\n",
       "      <td>1</td>\n",
       "      <td>1</td>\n",
       "    </tr>\n",
       "  </tbody>\n",
       "</table>\n",
       "<p>5 rows × 37 columns</p>\n",
       "</div>"
      ],
      "text/plain": [
       "        Gender  Orders  Jordan  Gatorade  Samsung  Asus  Udis  \\\n",
       "Cust_ID                                                         \n",
       "1            M       7       0         0        0     0     0   \n",
       "2            F       0       0         1        0     0     0   \n",
       "3            M       7       0         1        0     0     0   \n",
       "4            F       0       0         0        0     0     0   \n",
       "5          NaN      10       0         0        0     0     0   \n",
       "\n",
       "         Mondelez International  Wrangler  Vans  ...  LG  Dior  Scabal  \\\n",
       "Cust_ID                                          ...                     \n",
       "1                             0         0     2  ...   0     0       0   \n",
       "2                             0         0     0  ...   0     1       0   \n",
       "3                             0         0     0  ...   0     0       0   \n",
       "4                             0         0     0  ...   0     0       0   \n",
       "5                             0         0     0  ...   0     0       2   \n",
       "\n",
       "         Tommy Hilfiger  Hollister  Forever 21  Colavita  Microsoft  \\\n",
       "Cust_ID                                                               \n",
       "1                     0          0           0         0          0   \n",
       "2                     0          0           0         0          0   \n",
       "3                     0          0           0         0          1   \n",
       "4                     0          0           0         0          0   \n",
       "5                     0          0           0         0          0   \n",
       "\n",
       "         Jiffy mix  Kraft  \n",
       "Cust_ID                    \n",
       "1                0      0  \n",
       "2                0      0  \n",
       "3                0      0  \n",
       "4                0      0  \n",
       "5                1      1  \n",
       "\n",
       "[5 rows x 37 columns]"
      ]
     },
     "execution_count": 2,
     "metadata": {},
     "output_type": "execute_result"
    }
   ],
   "source": [
    "# read the data\n",
    "df = pd.read_csv('cust_data.csv', index_col=0)\n",
    "\n",
    "# print the first five rows of the data\n",
    "df.head()"
   ]
  },
  {
   "cell_type": "markdown",
   "metadata": {},
   "source": [
    "<a id='data_preparation'></a>\n",
    "## 3. Understand and Prepare the Data\n"
   ]
  },
  {
   "cell_type": "markdown",
   "metadata": {},
   "source": [
    "\n",
    "##  Data Types and Dimensions"
   ]
  },
  {
   "cell_type": "code",
   "execution_count": 3,
   "metadata": {
    "ExecuteTime": {
     "end_time": "2022-02-25T13:24:15.872726Z",
     "start_time": "2022-02-25T13:24:15.839251Z"
    }
   },
   "outputs": [
    {
     "name": "stdout",
     "output_type": "stream",
     "text": [
      "<class 'pandas.core.frame.DataFrame'>\n",
      "Int64Index: 30000 entries, 1 to 30000\n",
      "Data columns (total 37 columns):\n",
      " #   Column                  Non-Null Count  Dtype \n",
      "---  ------                  --------------  ----- \n",
      " 0   Gender                  27276 non-null  object\n",
      " 1   Orders                  30000 non-null  int64 \n",
      " 2   Jordan                  30000 non-null  int64 \n",
      " 3   Gatorade                30000 non-null  int64 \n",
      " 4   Samsung                 30000 non-null  int64 \n",
      " 5   Asus                    30000 non-null  int64 \n",
      " 6   Udis                    30000 non-null  int64 \n",
      " 7   Mondelez International  30000 non-null  int64 \n",
      " 8   Wrangler                30000 non-null  int64 \n",
      " 9   Vans                    30000 non-null  int64 \n",
      " 10  Fila                    30000 non-null  int64 \n",
      " 11  Brooks                  30000 non-null  int64 \n",
      " 12  H&M                     30000 non-null  int64 \n",
      " 13  Dairy Queen             30000 non-null  int64 \n",
      " 14  Fendi                   30000 non-null  int64 \n",
      " 15  Hewlett Packard         30000 non-null  int64 \n",
      " 16  Pladis                  30000 non-null  int64 \n",
      " 17  Asics                   30000 non-null  int64 \n",
      " 18  Siemens                 30000 non-null  int64 \n",
      " 19  J.M. Smucker            30000 non-null  int64 \n",
      " 20  Pop Chips               30000 non-null  int64 \n",
      " 21  Juniper                 30000 non-null  int64 \n",
      " 22  Huawei                  30000 non-null  int64 \n",
      " 23  Compaq                  30000 non-null  int64 \n",
      " 24  IBM                     30000 non-null  int64 \n",
      " 25  Burberry                30000 non-null  int64 \n",
      " 26  Mi                      30000 non-null  int64 \n",
      " 27  LG                      30000 non-null  int64 \n",
      " 28  Dior                    30000 non-null  int64 \n",
      " 29  Scabal                  30000 non-null  int64 \n",
      " 30  Tommy Hilfiger          30000 non-null  int64 \n",
      " 31  Hollister               30000 non-null  int64 \n",
      " 32  Forever 21              30000 non-null  int64 \n",
      " 33  Colavita                30000 non-null  int64 \n",
      " 34  Microsoft               30000 non-null  int64 \n",
      " 35  Jiffy mix               30000 non-null  int64 \n",
      " 36  Kraft                   30000 non-null  int64 \n",
      "dtypes: int64(36), object(1)\n",
      "memory usage: 8.7+ MB\n"
     ]
    }
   ],
   "source": [
    "# check the data types for variables\n",
    "df.info()"
   ]
  },
  {
   "cell_type": "code",
   "execution_count": 4,
   "metadata": {
    "ExecuteTime": {
     "end_time": "2022-02-25T13:24:19.624732Z",
     "start_time": "2022-02-25T13:24:19.620266Z"
    }
   },
   "outputs": [
    {
     "name": "stdout",
     "output_type": "stream",
     "text": [
      "(30000, 37)\n"
     ]
    }
   ],
   "source": [
    "# get the shape\n",
    "print(df.shape)"
   ]
  },
  {
   "cell_type": "code",
   "execution_count": 5,
   "metadata": {},
   "outputs": [
    {
     "data": {
      "text/plain": [
       "Gender                    object\n",
       "Orders                     int64\n",
       "Jordan                     int64\n",
       "Gatorade                   int64\n",
       "Samsung                    int64\n",
       "Asus                       int64\n",
       "Udis                       int64\n",
       "Mondelez International     int64\n",
       "Wrangler                   int64\n",
       "Vans                       int64\n",
       "Fila                       int64\n",
       "Brooks                     int64\n",
       "H&M                        int64\n",
       "Dairy Queen                int64\n",
       "Fendi                      int64\n",
       "Hewlett Packard            int64\n",
       "Pladis                     int64\n",
       "Asics                      int64\n",
       "Siemens                    int64\n",
       "J.M. Smucker               int64\n",
       "Pop Chips                  int64\n",
       "Juniper                    int64\n",
       "Huawei                     int64\n",
       "Compaq                     int64\n",
       "IBM                        int64\n",
       "Burberry                   int64\n",
       "Mi                         int64\n",
       "LG                         int64\n",
       "Dior                       int64\n",
       "Scabal                     int64\n",
       "Tommy Hilfiger             int64\n",
       "Hollister                  int64\n",
       "Forever 21                 int64\n",
       "Colavita                   int64\n",
       "Microsoft                  int64\n",
       "Jiffy mix                  int64\n",
       "Kraft                      int64\n",
       "dtype: object"
      ]
     },
     "execution_count": 5,
     "metadata": {},
     "output_type": "execute_result"
    }
   ],
   "source": [
    "df.dtypes # printing the datatype of data"
   ]
  },
  {
   "cell_type": "code",
   "execution_count": 6,
   "metadata": {},
   "outputs": [
    {
     "data": {
      "text/plain": [
       "Gender                    2724\n",
       "Orders                       0\n",
       "Jordan                       0\n",
       "Gatorade                     0\n",
       "Samsung                      0\n",
       "Asus                         0\n",
       "Udis                         0\n",
       "Mondelez International       0\n",
       "Wrangler                     0\n",
       "Vans                         0\n",
       "Fila                         0\n",
       "Brooks                       0\n",
       "H&M                          0\n",
       "Dairy Queen                  0\n",
       "Fendi                        0\n",
       "Hewlett Packard              0\n",
       "Pladis                       0\n",
       "Asics                        0\n",
       "Siemens                      0\n",
       "J.M. Smucker                 0\n",
       "Pop Chips                    0\n",
       "Juniper                      0\n",
       "Huawei                       0\n",
       "Compaq                       0\n",
       "IBM                          0\n",
       "Burberry                     0\n",
       "Mi                           0\n",
       "LG                           0\n",
       "Dior                         0\n",
       "Scabal                       0\n",
       "Tommy Hilfiger               0\n",
       "Hollister                    0\n",
       "Forever 21                   0\n",
       "Colavita                     0\n",
       "Microsoft                    0\n",
       "Jiffy mix                    0\n",
       "Kraft                        0\n",
       "dtype: int64"
      ]
     },
     "execution_count": 6,
     "metadata": {},
     "output_type": "execute_result"
    }
   ],
   "source": [
    "df.isnull().sum()  # checking null values"
   ]
  },
  {
   "cell_type": "code",
   "execution_count": 8,
   "metadata": {
    "ExecuteTime": {
     "end_time": "2022-02-25T13:24:24.249814Z",
     "start_time": "2022-02-25T13:24:24.082800Z"
    }
   },
   "outputs": [
    {
     "data": {
      "image/png": "[encoded data removed]",
      "text/plain": [
       "<Figure size 936x720 with 1 Axes>"
      ]
     },
     "metadata": {},
     "output_type": "display_data"
    }
   ],
   "source": [
    "# 'countplot' to plot barplot for orders\n",
    "plt.figure(figsize=(13, 10))\n",
    "sns.countplot(data = df, x = 'Orders')\n",
    "plt.title('Distribution of Orders', fontsize = 15)\n",
    "plt.xlabel('No. of Orders', fontsize = 15)\n",
    "plt.ylabel('Count', fontsize = 15)\n",
    "plt.show()"
   ]
  },
  {
   "cell_type": "markdown",
   "metadata": {},
   "source": [
    "Most of the customers have no past orders "
   ]
  },
  {
   "cell_type": "markdown",
   "metadata": {},
   "source": [
    "**Distribution of gender of the customer**\n",
    "\n"
   ]
  },
  {
   "cell_type": "code",
   "execution_count": 51,
   "metadata": {},
   "outputs": [
    {
     "data": {
      "text/plain": [
       "Text(0.5, 1.0, 'distribution of orders by gender')"
      ]
     },
     "execution_count": 51,
     "metadata": {},
     "output_type": "execute_result"
    },
    {
     "data": {
      "image/png": "[encoded data removed]",
      "text/plain": [
       "<Figure size 1080x720 with 1 Axes>"
      ]
     },
     "metadata": {},
     "output_type": "display_data"
    }
   ],
   "source": [
    "plt.figure(figsize=(15, 10))\n",
    "sns.countplot(x=\"Gender\",data=df)\n",
    "plt.title(\"distribution of orders by gender\")\n",
    "#distribution of orders placed by gender"
   ]
  },
  {
   "cell_type": "code",
   "execution_count": 10,
   "metadata": {},
   "outputs": [
    {
     "data": {
      "image/png": "[encoded data removed]",
      "text/plain": [
       "<Figure size 648x360 with 1 Axes>"
      ]
     },
     "metadata": {},
     "output_type": "display_data"
    }
   ],
   "source": [
    "sns.set(style=\"whitegrid\")\n",
    "plt.figure(figsize=(9,5))\n",
    "total = float(len(df))\n",
    "ax = sns.countplot(x=\"Gender\", data=df)\n",
    "plt.title('distribution of orders placed by gender', fontsize=20)\n",
    "for p in ax.patches:\n",
    "    percentage = '{:.1f}%'.format(100 * p.get_height()/total)\n",
    "    x = p.get_x() + p.get_width()-0.4\n",
    "    y = p.get_height()\n",
    "    ax.annotate(percentage, (x, y),ha='center')\n",
    "plt.show()\n",
    "#GETTING THE COUNT PLOT IN PERCENTAGE"
   ]
  },
  {
   "cell_type": "markdown",
   "metadata": {},
   "source": [
    "**There are more female customers in the data than the male customers.\n",
    "It can be seen that the variable 'Gender' has lesser observations (percent-wise only 90.92% observations) than the total number of observations. This inconsistency is because of the existence of missing values**"
   ]
  },
  {
   "cell_type": "code",
   "execution_count": 12,
   "metadata": {
    "ExecuteTime": {
     "end_time": "2022-02-25T13:24:34.117817Z",
     "start_time": "2022-02-25T13:24:34.033074Z"
    }
   },
   "outputs": [
    {
     "data": {
      "text/html": [
       "<div>\n",
       "<style scoped>\n",
       "    .dataframe tbody tr th:only-of-type {\n",
       "        vertical-align: middle;\n",
       "    }\n",
       "\n",
       "    .dataframe tbody tr th {\n",
       "        vertical-align: top;\n",
       "    }\n",
       "\n",
       "    .dataframe thead th {\n",
       "        text-align: right;\n",
       "    }\n",
       "</style>\n",
       "<table border=\"1\" class=\"dataframe\">\n",
       "  <thead>\n",
       "    <tr style=\"text-align: right;\">\n",
       "      <th></th>\n",
       "      <th>Orders</th>\n",
       "      <th>Jordan</th>\n",
       "      <th>Gatorade</th>\n",
       "      <th>Samsung</th>\n",
       "      <th>Asus</th>\n",
       "      <th>Udis</th>\n",
       "      <th>Mondelez International</th>\n",
       "      <th>Wrangler</th>\n",
       "      <th>Vans</th>\n",
       "      <th>Fila</th>\n",
       "      <th>...</th>\n",
       "      <th>LG</th>\n",
       "      <th>Dior</th>\n",
       "      <th>Scabal</th>\n",
       "      <th>Tommy Hilfiger</th>\n",
       "      <th>Hollister</th>\n",
       "      <th>Forever 21</th>\n",
       "      <th>Colavita</th>\n",
       "      <th>Microsoft</th>\n",
       "      <th>Jiffy mix</th>\n",
       "      <th>Kraft</th>\n",
       "    </tr>\n",
       "  </thead>\n",
       "  <tbody>\n",
       "    <tr>\n",
       "      <th>count</th>\n",
       "      <td>30000.000000</td>\n",
       "      <td>30000.000000</td>\n",
       "      <td>30000.000000</td>\n",
       "      <td>30000.000000</td>\n",
       "      <td>30000.000000</td>\n",
       "      <td>30000.000000</td>\n",
       "      <td>30000.000000</td>\n",
       "      <td>30000.000000</td>\n",
       "      <td>30000.000000</td>\n",
       "      <td>30000.000000</td>\n",
       "      <td>...</td>\n",
       "      <td>30000.000000</td>\n",
       "      <td>30000.000000</td>\n",
       "      <td>30000.000000</td>\n",
       "      <td>30000.000000</td>\n",
       "      <td>30000.000000</td>\n",
       "      <td>30000.000000</td>\n",
       "      <td>30000.000000</td>\n",
       "      <td>30000.000000</td>\n",
       "      <td>30000.000000</td>\n",
       "      <td>30000.000000</td>\n",
       "    </tr>\n",
       "    <tr>\n",
       "      <th>mean</th>\n",
       "      <td>4.169800</td>\n",
       "      <td>0.267433</td>\n",
       "      <td>0.252333</td>\n",
       "      <td>0.222933</td>\n",
       "      <td>0.161333</td>\n",
       "      <td>0.143533</td>\n",
       "      <td>0.139767</td>\n",
       "      <td>0.106933</td>\n",
       "      <td>0.111433</td>\n",
       "      <td>0.094267</td>\n",
       "      <td>...</td>\n",
       "      <td>0.102533</td>\n",
       "      <td>0.271133</td>\n",
       "      <td>0.370067</td>\n",
       "      <td>0.158967</td>\n",
       "      <td>0.077667</td>\n",
       "      <td>0.057333</td>\n",
       "      <td>0.192200</td>\n",
       "      <td>0.116367</td>\n",
       "      <td>0.088033</td>\n",
       "      <td>0.070900</td>\n",
       "    </tr>\n",
       "    <tr>\n",
       "      <th>std</th>\n",
       "      <td>3.590311</td>\n",
       "      <td>0.804778</td>\n",
       "      <td>0.705368</td>\n",
       "      <td>0.917494</td>\n",
       "      <td>0.740038</td>\n",
       "      <td>0.641258</td>\n",
       "      <td>0.525840</td>\n",
       "      <td>0.515921</td>\n",
       "      <td>0.547990</td>\n",
       "      <td>0.531592</td>\n",
       "      <td>...</td>\n",
       "      <td>0.486376</td>\n",
       "      <td>0.714682</td>\n",
       "      <td>0.758465</td>\n",
       "      <td>0.510527</td>\n",
       "      <td>0.383370</td>\n",
       "      <td>0.300082</td>\n",
       "      <td>0.641306</td>\n",
       "      <td>0.446578</td>\n",
       "      <td>0.399277</td>\n",
       "      <td>0.387915</td>\n",
       "    </tr>\n",
       "    <tr>\n",
       "      <th>min</th>\n",
       "      <td>0.000000</td>\n",
       "      <td>0.000000</td>\n",
       "      <td>0.000000</td>\n",
       "      <td>0.000000</td>\n",
       "      <td>0.000000</td>\n",
       "      <td>0.000000</td>\n",
       "      <td>0.000000</td>\n",
       "      <td>0.000000</td>\n",
       "      <td>0.000000</td>\n",
       "      <td>0.000000</td>\n",
       "      <td>...</td>\n",
       "      <td>0.000000</td>\n",
       "      <td>0.000000</td>\n",
       "      <td>0.000000</td>\n",
       "      <td>0.000000</td>\n",
       "      <td>0.000000</td>\n",
       "      <td>0.000000</td>\n",
       "      <td>0.000000</td>\n",
       "      <td>0.000000</td>\n",
       "      <td>0.000000</td>\n",
       "      <td>0.000000</td>\n",
       "    </tr>\n",
       "    <tr>\n",
       "      <th>25%</th>\n",
       "      <td>1.000000</td>\n",
       "      <td>0.000000</td>\n",
       "      <td>0.000000</td>\n",
       "      <td>0.000000</td>\n",
       "      <td>0.000000</td>\n",
       "      <td>0.000000</td>\n",
       "      <td>0.000000</td>\n",
       "      <td>0.000000</td>\n",
       "      <td>0.000000</td>\n",
       "      <td>0.000000</td>\n",
       "      <td>...</td>\n",
       "      <td>0.000000</td>\n",
       "      <td>0.000000</td>\n",
       "      <td>0.000000</td>\n",
       "      <td>0.000000</td>\n",
       "      <td>0.000000</td>\n",
       "      <td>0.000000</td>\n",
       "      <td>0.000000</td>\n",
       "      <td>0.000000</td>\n",
       "      <td>0.000000</td>\n",
       "      <td>0.000000</td>\n",
       "    </tr>\n",
       "    <tr>\n",
       "      <th>50%</th>\n",
       "      <td>4.000000</td>\n",
       "      <td>0.000000</td>\n",
       "      <td>0.000000</td>\n",
       "      <td>0.000000</td>\n",
       "      <td>0.000000</td>\n",
       "      <td>0.000000</td>\n",
       "      <td>0.000000</td>\n",
       "      <td>0.000000</td>\n",
       "      <td>0.000000</td>\n",
       "      <td>0.000000</td>\n",
       "      <td>...</td>\n",
       "      <td>0.000000</td>\n",
       "      <td>0.000000</td>\n",
       "      <td>0.000000</td>\n",
       "      <td>0.000000</td>\n",
       "      <td>0.000000</td>\n",
       "      <td>0.000000</td>\n",
       "      <td>0.000000</td>\n",
       "      <td>0.000000</td>\n",
       "      <td>0.000000</td>\n",
       "      <td>0.000000</td>\n",
       "    </tr>\n",
       "    <tr>\n",
       "      <th>75%</th>\n",
       "      <td>7.000000</td>\n",
       "      <td>0.000000</td>\n",
       "      <td>0.000000</td>\n",
       "      <td>0.000000</td>\n",
       "      <td>0.000000</td>\n",
       "      <td>0.000000</td>\n",
       "      <td>0.000000</td>\n",
       "      <td>0.000000</td>\n",
       "      <td>0.000000</td>\n",
       "      <td>0.000000</td>\n",
       "      <td>...</td>\n",
       "      <td>0.000000</td>\n",
       "      <td>0.000000</td>\n",
       "      <td>1.000000</td>\n",
       "      <td>0.000000</td>\n",
       "      <td>0.000000</td>\n",
       "      <td>0.000000</td>\n",
       "      <td>0.000000</td>\n",
       "      <td>0.000000</td>\n",
       "      <td>0.000000</td>\n",
       "      <td>0.000000</td>\n",
       "    </tr>\n",
       "    <tr>\n",
       "      <th>max</th>\n",
       "      <td>12.000000</td>\n",
       "      <td>24.000000</td>\n",
       "      <td>15.000000</td>\n",
       "      <td>27.000000</td>\n",
       "      <td>17.000000</td>\n",
       "      <td>14.000000</td>\n",
       "      <td>31.000000</td>\n",
       "      <td>9.000000</td>\n",
       "      <td>16.000000</td>\n",
       "      <td>15.000000</td>\n",
       "      <td>...</td>\n",
       "      <td>19.000000</td>\n",
       "      <td>12.000000</td>\n",
       "      <td>11.000000</td>\n",
       "      <td>8.000000</td>\n",
       "      <td>9.000000</td>\n",
       "      <td>8.000000</td>\n",
       "      <td>22.000000</td>\n",
       "      <td>14.000000</td>\n",
       "      <td>8.000000</td>\n",
       "      <td>16.000000</td>\n",
       "    </tr>\n",
       "  </tbody>\n",
       "</table>\n",
       "<p>8 rows × 36 columns</p>\n",
       "</div>"
      ],
      "text/plain": [
       "             Orders        Jordan      Gatorade       Samsung          Asus  \\\n",
       "count  30000.000000  30000.000000  30000.000000  30000.000000  30000.000000   \n",
       "mean       4.169800      0.267433      0.252333      0.222933      0.161333   \n",
       "std        3.590311      0.804778      0.705368      0.917494      0.740038   \n",
       "min        0.000000      0.000000      0.000000      0.000000      0.000000   \n",
       "25%        1.000000      0.000000      0.000000      0.000000      0.000000   \n",
       "50%        4.000000      0.000000      0.000000      0.000000      0.000000   \n",
       "75%        7.000000      0.000000      0.000000      0.000000      0.000000   \n",
       "max       12.000000     24.000000     15.000000     27.000000     17.000000   \n",
       "\n",
       "               Udis  Mondelez International      Wrangler          Vans  \\\n",
       "count  30000.000000            30000.000000  30000.000000  30000.000000   \n",
       "mean       0.143533                0.139767      0.106933      0.111433   \n",
       "std        0.641258                0.525840      0.515921      0.547990   \n",
       "min        0.000000                0.000000      0.000000      0.000000   \n",
       "25%        0.000000                0.000000      0.000000      0.000000   \n",
       "50%        0.000000                0.000000      0.000000      0.000000   \n",
       "75%        0.000000                0.000000      0.000000      0.000000   \n",
       "max       14.000000               31.000000      9.000000     16.000000   \n",
       "\n",
       "               Fila  ...            LG          Dior        Scabal  \\\n",
       "count  30000.000000  ...  30000.000000  30000.000000  30000.000000   \n",
       "mean       0.094267  ...      0.102533      0.271133      0.370067   \n",
       "std        0.531592  ...      0.486376      0.714682      0.758465   \n",
       "min        0.000000  ...      0.000000      0.000000      0.000000   \n",
       "25%        0.000000  ...      0.000000      0.000000      0.000000   \n",
       "50%        0.000000  ...      0.000000      0.000000      0.000000   \n",
       "75%        0.000000  ...      0.000000      0.000000      1.000000   \n",
       "max       15.000000  ...     19.000000     12.000000     11.000000   \n",
       "\n",
       "       Tommy Hilfiger     Hollister    Forever 21      Colavita     Microsoft  \\\n",
       "count    30000.000000  30000.000000  30000.000000  30000.000000  30000.000000   \n",
       "mean         0.158967      0.077667      0.057333      0.192200      0.116367   \n",
       "std          0.510527      0.383370      0.300082      0.641306      0.446578   \n",
       "min          0.000000      0.000000      0.000000      0.000000      0.000000   \n",
       "25%          0.000000      0.000000      0.000000      0.000000      0.000000   \n",
       "50%          0.000000      0.000000      0.000000      0.000000      0.000000   \n",
       "75%          0.000000      0.000000      0.000000      0.000000      0.000000   \n",
       "max          8.000000      9.000000      8.000000     22.000000     14.000000   \n",
       "\n",
       "          Jiffy mix         Kraft  \n",
       "count  30000.000000  30000.000000  \n",
       "mean       0.088033      0.070900  \n",
       "std        0.399277      0.387915  \n",
       "min        0.000000      0.000000  \n",
       "25%        0.000000      0.000000  \n",
       "50%        0.000000      0.000000  \n",
       "75%        0.000000      0.000000  \n",
       "max        8.000000     16.000000  \n",
       "\n",
       "[8 rows x 36 columns]"
      ]
     },
     "execution_count": 12,
     "metadata": {},
     "output_type": "execute_result"
    }
   ],
   "source": [
    "df.describe()"
   ]
  },
  {
   "cell_type": "markdown",
   "metadata": {},
   "source": [
    "The above output illustrates the summary statistics of the numeric variable.\n",
    "The customers have placed 4 orders on an average with minimum zero orders and maximum of 12.\n",
    "From the summary output, it can be seen that the considered dataset is sparse; \n",
    "since, for all the variables with brand searches, 75% of the observations are 0"
   ]
  },
  {
   "cell_type": "code",
   "execution_count": 14,
   "metadata": {
    "ExecuteTime": {
     "end_time": "2022-02-25T13:24:40.593148Z",
     "start_time": "2022-02-25T13:24:40.552962Z"
    }
   },
   "outputs": [
    {
     "data": {
      "text/html": [
       "<div>\n",
       "<style scoped>\n",
       "    .dataframe tbody tr th:only-of-type {\n",
       "        vertical-align: middle;\n",
       "    }\n",
       "\n",
       "    .dataframe tbody tr th {\n",
       "        vertical-align: top;\n",
       "    }\n",
       "\n",
       "    .dataframe thead th {\n",
       "        text-align: right;\n",
       "    }\n",
       "</style>\n",
       "<table border=\"1\" class=\"dataframe\">\n",
       "  <thead>\n",
       "    <tr style=\"text-align: right;\">\n",
       "      <th></th>\n",
       "      <th>Gender</th>\n",
       "    </tr>\n",
       "  </thead>\n",
       "  <tbody>\n",
       "    <tr>\n",
       "      <th>count</th>\n",
       "      <td>27276</td>\n",
       "    </tr>\n",
       "    <tr>\n",
       "      <th>unique</th>\n",
       "      <td>2</td>\n",
       "    </tr>\n",
       "    <tr>\n",
       "      <th>top</th>\n",
       "      <td>F</td>\n",
       "    </tr>\n",
       "    <tr>\n",
       "      <th>freq</th>\n",
       "      <td>22054</td>\n",
       "    </tr>\n",
       "  </tbody>\n",
       "</table>\n",
       "</div>"
      ],
      "text/plain": [
       "       Gender\n",
       "count   27276\n",
       "unique      2\n",
       "top         F\n",
       "freq    22054"
      ]
     },
     "execution_count": 14,
     "metadata": {},
     "output_type": "execute_result"
    }
   ],
   "source": [
    "# summary of the categorical variables\n",
    "df.describe(include = object)"
   ]
  },
  {
   "cell_type": "markdown",
   "metadata": {},
   "source": [
    "**The summary contains information about the total number of observations, number of unique classes, the most occurring class and frequency of the same.\n",
    "It can be seen that the mode of the variable 'Gender' is F with 22054 observations**"
   ]
  },
  {
   "cell_type": "markdown",
   "metadata": {},
   "source": [
    "\n",
    "## Treating Missing values:\n",
    "If the missing values are not handled properly we may end up drawing an inaccurate inference about the data. Due to improper handling, the result obtained will differ from the ones where the missing values are present.\n"
   ]
  },
  {
   "cell_type": "code",
   "execution_count": 15,
   "metadata": {
    "ExecuteTime": {
     "end_time": "2022-02-25T13:24:44.112230Z",
     "start_time": "2022-02-25T13:24:44.071347Z"
    }
   },
   "outputs": [
    {
     "data": {
      "text/html": [
       "<div>\n",
       "<style scoped>\n",
       "    .dataframe tbody tr th:only-of-type {\n",
       "        vertical-align: middle;\n",
       "    }\n",
       "\n",
       "    .dataframe tbody tr th {\n",
       "        vertical-align: top;\n",
       "    }\n",
       "\n",
       "    .dataframe thead th {\n",
       "        text-align: right;\n",
       "    }\n",
       "</style>\n",
       "<table border=\"1\" class=\"dataframe\">\n",
       "  <thead>\n",
       "    <tr style=\"text-align: right;\">\n",
       "      <th></th>\n",
       "      <th>percent_missing1</th>\n",
       "      <th>percent_missing</th>\n",
       "    </tr>\n",
       "  </thead>\n",
       "  <tbody>\n",
       "    <tr>\n",
       "      <th>Gender</th>\n",
       "      <td>2724</td>\n",
       "      <td>9.08</td>\n",
       "    </tr>\n",
       "    <tr>\n",
       "      <th>Orders</th>\n",
       "      <td>0</td>\n",
       "      <td>0.00</td>\n",
       "    </tr>\n",
       "    <tr>\n",
       "      <th>Jordan</th>\n",
       "      <td>0</td>\n",
       "      <td>0.00</td>\n",
       "    </tr>\n",
       "    <tr>\n",
       "      <th>Gatorade</th>\n",
       "      <td>0</td>\n",
       "      <td>0.00</td>\n",
       "    </tr>\n",
       "    <tr>\n",
       "      <th>Samsung</th>\n",
       "      <td>0</td>\n",
       "      <td>0.00</td>\n",
       "    </tr>\n",
       "    <tr>\n",
       "      <th>Asus</th>\n",
       "      <td>0</td>\n",
       "      <td>0.00</td>\n",
       "    </tr>\n",
       "    <tr>\n",
       "      <th>Udis</th>\n",
       "      <td>0</td>\n",
       "      <td>0.00</td>\n",
       "    </tr>\n",
       "    <tr>\n",
       "      <th>Mondelez International</th>\n",
       "      <td>0</td>\n",
       "      <td>0.00</td>\n",
       "    </tr>\n",
       "    <tr>\n",
       "      <th>Wrangler</th>\n",
       "      <td>0</td>\n",
       "      <td>0.00</td>\n",
       "    </tr>\n",
       "    <tr>\n",
       "      <th>Vans</th>\n",
       "      <td>0</td>\n",
       "      <td>0.00</td>\n",
       "    </tr>\n",
       "    <tr>\n",
       "      <th>Fila</th>\n",
       "      <td>0</td>\n",
       "      <td>0.00</td>\n",
       "    </tr>\n",
       "    <tr>\n",
       "      <th>Brooks</th>\n",
       "      <td>0</td>\n",
       "      <td>0.00</td>\n",
       "    </tr>\n",
       "    <tr>\n",
       "      <th>H&amp;M</th>\n",
       "      <td>0</td>\n",
       "      <td>0.00</td>\n",
       "    </tr>\n",
       "    <tr>\n",
       "      <th>Dairy Queen</th>\n",
       "      <td>0</td>\n",
       "      <td>0.00</td>\n",
       "    </tr>\n",
       "    <tr>\n",
       "      <th>Fendi</th>\n",
       "      <td>0</td>\n",
       "      <td>0.00</td>\n",
       "    </tr>\n",
       "    <tr>\n",
       "      <th>Hewlett Packard</th>\n",
       "      <td>0</td>\n",
       "      <td>0.00</td>\n",
       "    </tr>\n",
       "    <tr>\n",
       "      <th>Pladis</th>\n",
       "      <td>0</td>\n",
       "      <td>0.00</td>\n",
       "    </tr>\n",
       "    <tr>\n",
       "      <th>Asics</th>\n",
       "      <td>0</td>\n",
       "      <td>0.00</td>\n",
       "    </tr>\n",
       "    <tr>\n",
       "      <th>Siemens</th>\n",
       "      <td>0</td>\n",
       "      <td>0.00</td>\n",
       "    </tr>\n",
       "    <tr>\n",
       "      <th>J.M. Smucker</th>\n",
       "      <td>0</td>\n",
       "      <td>0.00</td>\n",
       "    </tr>\n",
       "    <tr>\n",
       "      <th>Pop Chips</th>\n",
       "      <td>0</td>\n",
       "      <td>0.00</td>\n",
       "    </tr>\n",
       "    <tr>\n",
       "      <th>Juniper</th>\n",
       "      <td>0</td>\n",
       "      <td>0.00</td>\n",
       "    </tr>\n",
       "    <tr>\n",
       "      <th>Huawei</th>\n",
       "      <td>0</td>\n",
       "      <td>0.00</td>\n",
       "    </tr>\n",
       "    <tr>\n",
       "      <th>Compaq</th>\n",
       "      <td>0</td>\n",
       "      <td>0.00</td>\n",
       "    </tr>\n",
       "    <tr>\n",
       "      <th>IBM</th>\n",
       "      <td>0</td>\n",
       "      <td>0.00</td>\n",
       "    </tr>\n",
       "    <tr>\n",
       "      <th>Burberry</th>\n",
       "      <td>0</td>\n",
       "      <td>0.00</td>\n",
       "    </tr>\n",
       "    <tr>\n",
       "      <th>Mi</th>\n",
       "      <td>0</td>\n",
       "      <td>0.00</td>\n",
       "    </tr>\n",
       "    <tr>\n",
       "      <th>LG</th>\n",
       "      <td>0</td>\n",
       "      <td>0.00</td>\n",
       "    </tr>\n",
       "    <tr>\n",
       "      <th>Dior</th>\n",
       "      <td>0</td>\n",
       "      <td>0.00</td>\n",
       "    </tr>\n",
       "    <tr>\n",
       "      <th>Scabal</th>\n",
       "      <td>0</td>\n",
       "      <td>0.00</td>\n",
       "    </tr>\n",
       "    <tr>\n",
       "      <th>Tommy Hilfiger</th>\n",
       "      <td>0</td>\n",
       "      <td>0.00</td>\n",
       "    </tr>\n",
       "    <tr>\n",
       "      <th>Hollister</th>\n",
       "      <td>0</td>\n",
       "      <td>0.00</td>\n",
       "    </tr>\n",
       "    <tr>\n",
       "      <th>Forever 21</th>\n",
       "      <td>0</td>\n",
       "      <td>0.00</td>\n",
       "    </tr>\n",
       "    <tr>\n",
       "      <th>Colavita</th>\n",
       "      <td>0</td>\n",
       "      <td>0.00</td>\n",
       "    </tr>\n",
       "    <tr>\n",
       "      <th>Microsoft</th>\n",
       "      <td>0</td>\n",
       "      <td>0.00</td>\n",
       "    </tr>\n",
       "    <tr>\n",
       "      <th>Jiffy mix</th>\n",
       "      <td>0</td>\n",
       "      <td>0.00</td>\n",
       "    </tr>\n",
       "    <tr>\n",
       "      <th>Kraft</th>\n",
       "      <td>0</td>\n",
       "      <td>0.00</td>\n",
       "    </tr>\n",
       "  </tbody>\n",
       "</table>\n",
       "</div>"
      ],
      "text/plain": [
       "                        percent_missing1  percent_missing\n",
       "Gender                              2724             9.08\n",
       "Orders                                 0             0.00\n",
       "Jordan                                 0             0.00\n",
       "Gatorade                               0             0.00\n",
       "Samsung                                0             0.00\n",
       "Asus                                   0             0.00\n",
       "Udis                                   0             0.00\n",
       "Mondelez International                 0             0.00\n",
       "Wrangler                               0             0.00\n",
       "Vans                                   0             0.00\n",
       "Fila                                   0             0.00\n",
       "Brooks                                 0             0.00\n",
       "H&M                                    0             0.00\n",
       "Dairy Queen                            0             0.00\n",
       "Fendi                                  0             0.00\n",
       "Hewlett Packard                        0             0.00\n",
       "Pladis                                 0             0.00\n",
       "Asics                                  0             0.00\n",
       "Siemens                                0             0.00\n",
       "J.M. Smucker                           0             0.00\n",
       "Pop Chips                              0             0.00\n",
       "Juniper                                0             0.00\n",
       "Huawei                                 0             0.00\n",
       "Compaq                                 0             0.00\n",
       "IBM                                    0             0.00\n",
       "Burberry                               0             0.00\n",
       "Mi                                     0             0.00\n",
       "LG                                     0             0.00\n",
       "Dior                                   0             0.00\n",
       "Scabal                                 0             0.00\n",
       "Tommy Hilfiger                         0             0.00\n",
       "Hollister                              0             0.00\n",
       "Forever 21                             0             0.00\n",
       "Colavita                               0             0.00\n",
       "Microsoft                              0             0.00\n",
       "Jiffy mix                              0             0.00\n",
       "Kraft                                  0             0.00"
      ]
     },
     "execution_count": 15,
     "metadata": {},
     "output_type": "execute_result"
    }
   ],
   "source": [
    "percent_missing1 = df.isnull().sum()\n",
    "percent_missing = df.isnull().sum() * 100 / len(df)\n",
    "missing_value_df = pd.DataFrame({'percent_missing1':percent_missing1 ,\n",
    "                                 'percent_missing': percent_missing})\n",
    "missing_value_df\n",
    "#DISPLAYIN THE MISSING VALUES AND ITS PERCENTAGES"
   ]
  },
  {
   "cell_type": "markdown",
   "metadata": {},
   "source": [
    "Only the variable 'Gender' has 9% of missing values"
   ]
  },
  {
   "cell_type": "code",
   "execution_count": 17,
   "metadata": {
    "ExecuteTime": {
     "end_time": "2022-02-25T13:24:51.672514Z",
     "start_time": "2022-02-25T13:24:50.888712Z"
    }
   },
   "outputs": [
    {
     "data": {
      "image/png": "[encoded data removed]",
      "text/plain": [
       "<Figure size 432x288 with 1 Axes>"
      ]
     },
     "metadata": {},
     "output_type": "display_data"
    }
   ],
   "source": [
    "# plot heatmap to check null values\n",
    "# 'cbar = False' does not show the color axis \n",
    "sns.heatmap(df.isnull(),yticklabels=False,cbar=False)\n",
    "plt.title('Heatmap for Missing Values', fontsize = 15)\n",
    "plt.xlabel('Variables', fontsize = 15)\n",
    "plt.ylabel('Cust_ID', fontsize = 15)\n",
    "\n",
    "plt.show()"
   ]
  },
  {
   "cell_type": "markdown",
   "metadata": {},
   "source": [
    "#### Replace missing values in 'Gender'\n",
    "\n",
    "'Gender' is a categorical variable with categories, 'M' and 'F'. We have 2724 customers whose gender is not known to us. To deal with this, we perform dummy encoding for the variable  "
   ]
  },
  {
   "cell_type": "code",
   "execution_count": 19,
   "metadata": {
    "ExecuteTime": {
     "end_time": "2022-02-25T13:24:56.679846Z",
     "start_time": "2022-02-25T13:24:56.644959Z"
    }
   },
   "outputs": [
    {
     "data": {
      "text/html": [
       "<div>\n",
       "<style scoped>\n",
       "    .dataframe tbody tr th:only-of-type {\n",
       "        vertical-align: middle;\n",
       "    }\n",
       "\n",
       "    .dataframe tbody tr th {\n",
       "        vertical-align: top;\n",
       "    }\n",
       "\n",
       "    .dataframe thead th {\n",
       "        text-align: right;\n",
       "    }\n",
       "</style>\n",
       "<table border=\"1\" class=\"dataframe\">\n",
       "  <thead>\n",
       "    <tr style=\"text-align: right;\">\n",
       "      <th></th>\n",
       "      <th>Orders</th>\n",
       "      <th>Jordan</th>\n",
       "      <th>Gatorade</th>\n",
       "      <th>Samsung</th>\n",
       "      <th>Asus</th>\n",
       "      <th>Udis</th>\n",
       "      <th>Mondelez International</th>\n",
       "      <th>Wrangler</th>\n",
       "      <th>Vans</th>\n",
       "      <th>Fila</th>\n",
       "      <th>...</th>\n",
       "      <th>Scabal</th>\n",
       "      <th>Tommy Hilfiger</th>\n",
       "      <th>Hollister</th>\n",
       "      <th>Forever 21</th>\n",
       "      <th>Colavita</th>\n",
       "      <th>Microsoft</th>\n",
       "      <th>Jiffy mix</th>\n",
       "      <th>Kraft</th>\n",
       "      <th>Gender_F</th>\n",
       "      <th>Gender_M</th>\n",
       "    </tr>\n",
       "    <tr>\n",
       "      <th>Cust_ID</th>\n",
       "      <th></th>\n",
       "      <th></th>\n",
       "      <th></th>\n",
       "      <th></th>\n",
       "      <th></th>\n",
       "      <th></th>\n",
       "      <th></th>\n",
       "      <th></th>\n",
       "      <th></th>\n",
       "      <th></th>\n",
       "      <th></th>\n",
       "      <th></th>\n",
       "      <th></th>\n",
       "      <th></th>\n",
       "      <th></th>\n",
       "      <th></th>\n",
       "      <th></th>\n",
       "      <th></th>\n",
       "      <th></th>\n",
       "      <th></th>\n",
       "      <th></th>\n",
       "    </tr>\n",
       "  </thead>\n",
       "  <tbody>\n",
       "    <tr>\n",
       "      <th>1</th>\n",
       "      <td>7</td>\n",
       "      <td>0</td>\n",
       "      <td>0</td>\n",
       "      <td>0</td>\n",
       "      <td>0</td>\n",
       "      <td>0</td>\n",
       "      <td>0</td>\n",
       "      <td>0</td>\n",
       "      <td>2</td>\n",
       "      <td>0</td>\n",
       "      <td>...</td>\n",
       "      <td>0</td>\n",
       "      <td>0</td>\n",
       "      <td>0</td>\n",
       "      <td>0</td>\n",
       "      <td>0</td>\n",
       "      <td>0</td>\n",
       "      <td>0</td>\n",
       "      <td>0</td>\n",
       "      <td>0</td>\n",
       "      <td>1</td>\n",
       "    </tr>\n",
       "    <tr>\n",
       "      <th>2</th>\n",
       "      <td>0</td>\n",
       "      <td>0</td>\n",
       "      <td>1</td>\n",
       "      <td>0</td>\n",
       "      <td>0</td>\n",
       "      <td>0</td>\n",
       "      <td>0</td>\n",
       "      <td>0</td>\n",
       "      <td>0</td>\n",
       "      <td>0</td>\n",
       "      <td>...</td>\n",
       "      <td>0</td>\n",
       "      <td>0</td>\n",
       "      <td>0</td>\n",
       "      <td>0</td>\n",
       "      <td>0</td>\n",
       "      <td>0</td>\n",
       "      <td>0</td>\n",
       "      <td>0</td>\n",
       "      <td>1</td>\n",
       "      <td>0</td>\n",
       "    </tr>\n",
       "    <tr>\n",
       "      <th>3</th>\n",
       "      <td>7</td>\n",
       "      <td>0</td>\n",
       "      <td>1</td>\n",
       "      <td>0</td>\n",
       "      <td>0</td>\n",
       "      <td>0</td>\n",
       "      <td>0</td>\n",
       "      <td>0</td>\n",
       "      <td>0</td>\n",
       "      <td>0</td>\n",
       "      <td>...</td>\n",
       "      <td>0</td>\n",
       "      <td>0</td>\n",
       "      <td>0</td>\n",
       "      <td>0</td>\n",
       "      <td>0</td>\n",
       "      <td>1</td>\n",
       "      <td>0</td>\n",
       "      <td>0</td>\n",
       "      <td>0</td>\n",
       "      <td>1</td>\n",
       "    </tr>\n",
       "    <tr>\n",
       "      <th>4</th>\n",
       "      <td>0</td>\n",
       "      <td>0</td>\n",
       "      <td>0</td>\n",
       "      <td>0</td>\n",
       "      <td>0</td>\n",
       "      <td>0</td>\n",
       "      <td>0</td>\n",
       "      <td>0</td>\n",
       "      <td>0</td>\n",
       "      <td>0</td>\n",
       "      <td>...</td>\n",
       "      <td>0</td>\n",
       "      <td>0</td>\n",
       "      <td>0</td>\n",
       "      <td>0</td>\n",
       "      <td>0</td>\n",
       "      <td>0</td>\n",
       "      <td>0</td>\n",
       "      <td>0</td>\n",
       "      <td>1</td>\n",
       "      <td>0</td>\n",
       "    </tr>\n",
       "    <tr>\n",
       "      <th>5</th>\n",
       "      <td>10</td>\n",
       "      <td>0</td>\n",
       "      <td>0</td>\n",
       "      <td>0</td>\n",
       "      <td>0</td>\n",
       "      <td>0</td>\n",
       "      <td>0</td>\n",
       "      <td>0</td>\n",
       "      <td>0</td>\n",
       "      <td>0</td>\n",
       "      <td>...</td>\n",
       "      <td>2</td>\n",
       "      <td>0</td>\n",
       "      <td>0</td>\n",
       "      <td>0</td>\n",
       "      <td>0</td>\n",
       "      <td>0</td>\n",
       "      <td>1</td>\n",
       "      <td>1</td>\n",
       "      <td>0</td>\n",
       "      <td>0</td>\n",
       "    </tr>\n",
       "  </tbody>\n",
       "</table>\n",
       "<p>5 rows × 38 columns</p>\n",
       "</div>"
      ],
      "text/plain": [
       "         Orders  Jordan  Gatorade  Samsung  Asus  Udis  \\\n",
       "Cust_ID                                                  \n",
       "1             7       0         0        0     0     0   \n",
       "2             0       0         1        0     0     0   \n",
       "3             7       0         1        0     0     0   \n",
       "4             0       0         0        0     0     0   \n",
       "5            10       0         0        0     0     0   \n",
       "\n",
       "         Mondelez International  Wrangler  Vans  Fila  ...  Scabal  \\\n",
       "Cust_ID                                                ...           \n",
       "1                             0         0     2     0  ...       0   \n",
       "2                             0         0     0     0  ...       0   \n",
       "3                             0         0     0     0  ...       0   \n",
       "4                             0         0     0     0  ...       0   \n",
       "5                             0         0     0     0  ...       2   \n",
       "\n",
       "         Tommy Hilfiger  Hollister  Forever 21  Colavita  Microsoft  \\\n",
       "Cust_ID                                                               \n",
       "1                     0          0           0         0          0   \n",
       "2                     0          0           0         0          0   \n",
       "3                     0          0           0         0          1   \n",
       "4                     0          0           0         0          0   \n",
       "5                     0          0           0         0          0   \n",
       "\n",
       "         Jiffy mix  Kraft  Gender_F  Gender_M  \n",
       "Cust_ID                                        \n",
       "1                0      0         0         1  \n",
       "2                0      0         1         0  \n",
       "3                0      0         0         1  \n",
       "4                0      0         1         0  \n",
       "5                1      1         0         0  \n",
       "\n",
       "[5 rows x 38 columns]"
      ]
     },
     "execution_count": 19,
     "metadata": {},
     "output_type": "execute_result"
    }
   ],
   "source": [
    "# create dummies against 'gender'\n",
    "data = pd.get_dummies(df,columns=['Gender'])     \n",
    "\n",
    "# head() to display top five rows\n",
    "data.head()"
   ]
  },
  {
   "cell_type": "code",
   "execution_count": 20,
   "metadata": {
    "ExecuteTime": {
     "end_time": "2022-02-25T13:25:01.620149Z",
     "start_time": "2022-02-25T13:25:01.614044Z"
    }
   },
   "outputs": [
    {
     "data": {
      "text/plain": [
       "(30000, 38)"
      ]
     },
     "execution_count": 20,
     "metadata": {},
     "output_type": "execute_result"
    }
   ],
   "source": [
    "# check the dimensions after dummy encoding\n",
    "data.shape"
   ]
  },
  {
   "cell_type": "markdown",
   "metadata": {},
   "source": [
    "The customer for which both the columns have '0' value indicates that the gender is not known"
   ]
  },
  {
   "cell_type": "code",
   "execution_count": 21,
   "metadata": {
    "ExecuteTime": {
     "end_time": "2022-02-25T13:25:04.223065Z",
     "start_time": "2022-02-25T13:25:04.206632Z"
    }
   },
   "outputs": [
    {
     "data": {
      "text/plain": [
       "Orders                    0\n",
       "Jordan                    0\n",
       "Gatorade                  0\n",
       "Samsung                   0\n",
       "Asus                      0\n",
       "Udis                      0\n",
       "Mondelez International    0\n",
       "Wrangler                  0\n",
       "Vans                      0\n",
       "Fila                      0\n",
       "Brooks                    0\n",
       "H&M                       0\n",
       "Dairy Queen               0\n",
       "Fendi                     0\n",
       "Hewlett Packard           0\n",
       "Pladis                    0\n",
       "Asics                     0\n",
       "Siemens                   0\n",
       "J.M. Smucker              0\n",
       "Pop Chips                 0\n",
       "Juniper                   0\n",
       "Huawei                    0\n",
       "Compaq                    0\n",
       "IBM                       0\n",
       "Burberry                  0\n",
       "Mi                        0\n",
       "LG                        0\n",
       "Dior                      0\n",
       "Scabal                    0\n",
       "Tommy Hilfiger            0\n",
       "Hollister                 0\n",
       "Forever 21                0\n",
       "Colavita                  0\n",
       "Microsoft                 0\n",
       "Jiffy mix                 0\n",
       "Kraft                     0\n",
       "Gender_F                  0\n",
       "Gender_M                  0\n",
       "dtype: int64"
      ]
     },
     "execution_count": 21,
     "metadata": {},
     "output_type": "execute_result"
    }
   ],
   "source": [
    "# recheck the null values\n",
    "data.isnull().sum()"
   ]
  },
  {
   "cell_type": "markdown",
   "metadata": {},
   "source": [
    "\n",
    "##  Visualization\n"
   ]
  },
  {
   "cell_type": "code",
   "execution_count": 22,
   "metadata": {
    "ExecuteTime": {
     "end_time": "2022-02-25T13:25:14.260792Z",
     "start_time": "2022-02-25T13:25:12.090515Z"
    },
    "scrolled": false
   },
   "outputs": [
    {
     "data": {
      "image/png": "[encoded data removed]",
      "text/plain": [
       "<Figure size 1296x1296 with 42 Axes>"
      ]
     },
     "metadata": {},
     "output_type": "display_data"
    }
   ],
   "source": [
    "fig = data.hist(figsize = (18,18))\n"
   ]
  },
  {
   "cell_type": "markdown",
   "metadata": {},
   "source": [
    "\n",
    "# K-means Clustering\n"
   ]
  },
  {
   "cell_type": "markdown",
   "metadata": {},
   "source": [
    "Centroid-based clustering algorithms cluster the data into non-hierarchical clusters. Such algorithms are efficient but sensitive to initial conditions and outliers. K-means is the most widely-used centroid-based clustering algorithm"
   ]
  },
  {
   "cell_type": "markdown",
   "metadata": {},
   "source": [
    "\n",
    "##  Prepare the Data\n",
    "\n",
    "Feature scaling is used to transform all the variables in the same range. If the variables are not in the same range, then the variable with higher values can dominate our final result. \n",
    "\n",
    "The two most discussed scaling methods are normalization and standardization. \n",
    "\n"
   ]
  },
  {
   "cell_type": "markdown",
   "metadata": {},
   "source": [
    "We consider only the brand names to segment the customers. Thus, drop the variables 'Orders', 'Gender_F', 'Gender_M' and scale the remaining variables"
   ]
  },
  {
   "cell_type": "code",
   "execution_count": 23,
   "metadata": {
    "ExecuteTime": {
     "end_time": "2022-02-25T13:25:18.909771Z",
     "start_time": "2022-02-25T13:25:18.880707Z"
    }
   },
   "outputs": [
    {
     "data": {
      "text/html": [
       "<div>\n",
       "<style scoped>\n",
       "    .dataframe tbody tr th:only-of-type {\n",
       "        vertical-align: middle;\n",
       "    }\n",
       "\n",
       "    .dataframe tbody tr th {\n",
       "        vertical-align: top;\n",
       "    }\n",
       "\n",
       "    .dataframe thead th {\n",
       "        text-align: right;\n",
       "    }\n",
       "</style>\n",
       "<table border=\"1\" class=\"dataframe\">\n",
       "  <thead>\n",
       "    <tr style=\"text-align: right;\">\n",
       "      <th></th>\n",
       "      <th>Jordan</th>\n",
       "      <th>Gatorade</th>\n",
       "      <th>Samsung</th>\n",
       "      <th>Asus</th>\n",
       "      <th>Udis</th>\n",
       "      <th>Mondelez International</th>\n",
       "      <th>Wrangler</th>\n",
       "      <th>Vans</th>\n",
       "      <th>Fila</th>\n",
       "      <th>Brooks</th>\n",
       "      <th>...</th>\n",
       "      <th>LG</th>\n",
       "      <th>Dior</th>\n",
       "      <th>Scabal</th>\n",
       "      <th>Tommy Hilfiger</th>\n",
       "      <th>Hollister</th>\n",
       "      <th>Forever 21</th>\n",
       "      <th>Colavita</th>\n",
       "      <th>Microsoft</th>\n",
       "      <th>Jiffy mix</th>\n",
       "      <th>Kraft</th>\n",
       "    </tr>\n",
       "    <tr>\n",
       "      <th>Cust_ID</th>\n",
       "      <th></th>\n",
       "      <th></th>\n",
       "      <th></th>\n",
       "      <th></th>\n",
       "      <th></th>\n",
       "      <th></th>\n",
       "      <th></th>\n",
       "      <th></th>\n",
       "      <th></th>\n",
       "      <th></th>\n",
       "      <th></th>\n",
       "      <th></th>\n",
       "      <th></th>\n",
       "      <th></th>\n",
       "      <th></th>\n",
       "      <th></th>\n",
       "      <th></th>\n",
       "      <th></th>\n",
       "      <th></th>\n",
       "      <th></th>\n",
       "      <th></th>\n",
       "    </tr>\n",
       "  </thead>\n",
       "  <tbody>\n",
       "    <tr>\n",
       "      <th>1</th>\n",
       "      <td>0</td>\n",
       "      <td>0</td>\n",
       "      <td>0</td>\n",
       "      <td>0</td>\n",
       "      <td>0</td>\n",
       "      <td>0</td>\n",
       "      <td>0</td>\n",
       "      <td>2</td>\n",
       "      <td>0</td>\n",
       "      <td>0</td>\n",
       "      <td>...</td>\n",
       "      <td>0</td>\n",
       "      <td>0</td>\n",
       "      <td>0</td>\n",
       "      <td>0</td>\n",
       "      <td>0</td>\n",
       "      <td>0</td>\n",
       "      <td>0</td>\n",
       "      <td>0</td>\n",
       "      <td>0</td>\n",
       "      <td>0</td>\n",
       "    </tr>\n",
       "    <tr>\n",
       "      <th>2</th>\n",
       "      <td>0</td>\n",
       "      <td>1</td>\n",
       "      <td>0</td>\n",
       "      <td>0</td>\n",
       "      <td>0</td>\n",
       "      <td>0</td>\n",
       "      <td>0</td>\n",
       "      <td>0</td>\n",
       "      <td>0</td>\n",
       "      <td>0</td>\n",
       "      <td>...</td>\n",
       "      <td>0</td>\n",
       "      <td>1</td>\n",
       "      <td>0</td>\n",
       "      <td>0</td>\n",
       "      <td>0</td>\n",
       "      <td>0</td>\n",
       "      <td>0</td>\n",
       "      <td>0</td>\n",
       "      <td>0</td>\n",
       "      <td>0</td>\n",
       "    </tr>\n",
       "    <tr>\n",
       "      <th>3</th>\n",
       "      <td>0</td>\n",
       "      <td>1</td>\n",
       "      <td>0</td>\n",
       "      <td>0</td>\n",
       "      <td>0</td>\n",
       "      <td>0</td>\n",
       "      <td>0</td>\n",
       "      <td>0</td>\n",
       "      <td>0</td>\n",
       "      <td>0</td>\n",
       "      <td>...</td>\n",
       "      <td>0</td>\n",
       "      <td>0</td>\n",
       "      <td>0</td>\n",
       "      <td>0</td>\n",
       "      <td>0</td>\n",
       "      <td>0</td>\n",
       "      <td>0</td>\n",
       "      <td>1</td>\n",
       "      <td>0</td>\n",
       "      <td>0</td>\n",
       "    </tr>\n",
       "    <tr>\n",
       "      <th>4</th>\n",
       "      <td>0</td>\n",
       "      <td>0</td>\n",
       "      <td>0</td>\n",
       "      <td>0</td>\n",
       "      <td>0</td>\n",
       "      <td>0</td>\n",
       "      <td>0</td>\n",
       "      <td>0</td>\n",
       "      <td>0</td>\n",
       "      <td>0</td>\n",
       "      <td>...</td>\n",
       "      <td>0</td>\n",
       "      <td>0</td>\n",
       "      <td>0</td>\n",
       "      <td>0</td>\n",
       "      <td>0</td>\n",
       "      <td>0</td>\n",
       "      <td>0</td>\n",
       "      <td>0</td>\n",
       "      <td>0</td>\n",
       "      <td>0</td>\n",
       "    </tr>\n",
       "    <tr>\n",
       "      <th>5</th>\n",
       "      <td>0</td>\n",
       "      <td>0</td>\n",
       "      <td>0</td>\n",
       "      <td>0</td>\n",
       "      <td>0</td>\n",
       "      <td>0</td>\n",
       "      <td>0</td>\n",
       "      <td>0</td>\n",
       "      <td>0</td>\n",
       "      <td>0</td>\n",
       "      <td>...</td>\n",
       "      <td>0</td>\n",
       "      <td>0</td>\n",
       "      <td>2</td>\n",
       "      <td>0</td>\n",
       "      <td>0</td>\n",
       "      <td>0</td>\n",
       "      <td>0</td>\n",
       "      <td>0</td>\n",
       "      <td>1</td>\n",
       "      <td>1</td>\n",
       "    </tr>\n",
       "  </tbody>\n",
       "</table>\n",
       "<p>5 rows × 35 columns</p>\n",
       "</div>"
      ],
      "text/plain": [
       "         Jordan  Gatorade  Samsung  Asus  Udis  Mondelez International  \\\n",
       "Cust_ID                                                                  \n",
       "1             0         0        0     0     0                       0   \n",
       "2             0         1        0     0     0                       0   \n",
       "3             0         1        0     0     0                       0   \n",
       "4             0         0        0     0     0                       0   \n",
       "5             0         0        0     0     0                       0   \n",
       "\n",
       "         Wrangler  Vans  Fila  Brooks  ...  LG  Dior  Scabal  Tommy Hilfiger  \\\n",
       "Cust_ID                                ...                                     \n",
       "1               0     2     0       0  ...   0     0       0               0   \n",
       "2               0     0     0       0  ...   0     1       0               0   \n",
       "3               0     0     0       0  ...   0     0       0               0   \n",
       "4               0     0     0       0  ...   0     0       0               0   \n",
       "5               0     0     0       0  ...   0     0       2               0   \n",
       "\n",
       "         Hollister  Forever 21  Colavita  Microsoft  Jiffy mix  Kraft  \n",
       "Cust_ID                                                                \n",
       "1                0           0         0          0          0      0  \n",
       "2                0           0         0          0          0      0  \n",
       "3                0           0         0          1          0      0  \n",
       "4                0           0         0          0          0      0  \n",
       "5                0           0         0          0          1      1  \n",
       "\n",
       "[5 rows x 35 columns]"
      ]
     },
     "execution_count": 23,
     "metadata": {},
     "output_type": "execute_result"
    }
   ],
   "source": [
    "# 'features' contain only the brand names\n",
    "features = data.drop(['Orders', 'Gender_F', 'Gender_M'], axis=1)\n",
    "\n",
    "# head() to display top five rows\n",
    "features.head()"
   ]
  },
  {
   "cell_type": "markdown",
   "metadata": {},
   "source": [
    "**Scaling the data**"
   ]
  },
  {
   "cell_type": "code",
   "execution_count": 24,
   "metadata": {
    "ExecuteTime": {
     "end_time": "2022-02-25T13:25:30.373471Z",
     "start_time": "2022-02-25T13:25:30.091946Z"
    }
   },
   "outputs": [],
   "source": [
    "from sklearn.preprocessing import StandardScaler\n",
    "\n",
    "scale = StandardScaler().fit(features)       \n",
    "\n",
    "# scale the 'features' data\n",
    "features = scale.transform(features)                "
   ]
  },
  {
   "cell_type": "code",
   "execution_count": 25,
   "metadata": {
    "ExecuteTime": {
     "end_time": "2022-02-25T13:25:32.464487Z",
     "start_time": "2022-02-25T13:25:32.430698Z"
    }
   },
   "outputs": [
    {
     "data": {
      "text/html": [
       "<div>\n",
       "<style scoped>\n",
       "    .dataframe tbody tr th:only-of-type {\n",
       "        vertical-align: middle;\n",
       "    }\n",
       "\n",
       "    .dataframe tbody tr th {\n",
       "        vertical-align: top;\n",
       "    }\n",
       "\n",
       "    .dataframe thead th {\n",
       "        text-align: right;\n",
       "    }\n",
       "</style>\n",
       "<table border=\"1\" class=\"dataframe\">\n",
       "  <thead>\n",
       "    <tr style=\"text-align: right;\">\n",
       "      <th></th>\n",
       "      <th>Orders</th>\n",
       "      <th>Jordan</th>\n",
       "      <th>Gatorade</th>\n",
       "      <th>Samsung</th>\n",
       "      <th>Asus</th>\n",
       "      <th>Udis</th>\n",
       "      <th>Mondelez International</th>\n",
       "      <th>Wrangler</th>\n",
       "      <th>Vans</th>\n",
       "      <th>Fila</th>\n",
       "      <th>...</th>\n",
       "      <th>Mi</th>\n",
       "      <th>LG</th>\n",
       "      <th>Dior</th>\n",
       "      <th>Scabal</th>\n",
       "      <th>Tommy Hilfiger</th>\n",
       "      <th>Hollister</th>\n",
       "      <th>Forever 21</th>\n",
       "      <th>Colavita</th>\n",
       "      <th>Microsoft</th>\n",
       "      <th>Jiffy mix</th>\n",
       "    </tr>\n",
       "  </thead>\n",
       "  <tbody>\n",
       "    <tr>\n",
       "      <th>0</th>\n",
       "      <td>-0.332312</td>\n",
       "      <td>-0.357739</td>\n",
       "      <td>-0.242985</td>\n",
       "      <td>-0.21801</td>\n",
       "      <td>-0.223835</td>\n",
       "      <td>-0.265801</td>\n",
       "      <td>-0.20727</td>\n",
       "      <td>3.446412</td>\n",
       "      <td>-0.177332</td>\n",
       "      <td>-0.297352</td>\n",
       "      <td>...</td>\n",
       "      <td>-0.210814</td>\n",
       "      <td>-0.379382</td>\n",
       "      <td>-0.487923</td>\n",
       "      <td>-0.311382</td>\n",
       "      <td>-0.202593</td>\n",
       "      <td>-0.191062</td>\n",
       "      <td>-0.299706</td>\n",
       "      <td>-0.260578</td>\n",
       "      <td>-0.220486</td>\n",
       "      <td>-0.182775</td>\n",
       "    </tr>\n",
       "    <tr>\n",
       "      <th>1</th>\n",
       "      <td>-0.332312</td>\n",
       "      <td>1.059984</td>\n",
       "      <td>-0.242985</td>\n",
       "      <td>-0.21801</td>\n",
       "      <td>-0.223835</td>\n",
       "      <td>-0.265801</td>\n",
       "      <td>-0.20727</td>\n",
       "      <td>-0.203353</td>\n",
       "      <td>-0.177332</td>\n",
       "      <td>-0.297352</td>\n",
       "      <td>...</td>\n",
       "      <td>-0.210814</td>\n",
       "      <td>1.019864</td>\n",
       "      <td>-0.487923</td>\n",
       "      <td>-0.311382</td>\n",
       "      <td>-0.202593</td>\n",
       "      <td>-0.191062</td>\n",
       "      <td>-0.299706</td>\n",
       "      <td>-0.260578</td>\n",
       "      <td>-0.220486</td>\n",
       "      <td>-0.182775</td>\n",
       "    </tr>\n",
       "    <tr>\n",
       "      <th>2</th>\n",
       "      <td>-0.332312</td>\n",
       "      <td>1.059984</td>\n",
       "      <td>-0.242985</td>\n",
       "      <td>-0.21801</td>\n",
       "      <td>-0.223835</td>\n",
       "      <td>-0.265801</td>\n",
       "      <td>-0.20727</td>\n",
       "      <td>-0.203353</td>\n",
       "      <td>-0.177332</td>\n",
       "      <td>-0.297352</td>\n",
       "      <td>...</td>\n",
       "      <td>-0.210814</td>\n",
       "      <td>-0.379382</td>\n",
       "      <td>-0.487923</td>\n",
       "      <td>-0.311382</td>\n",
       "      <td>-0.202593</td>\n",
       "      <td>-0.191062</td>\n",
       "      <td>-0.299706</td>\n",
       "      <td>1.978708</td>\n",
       "      <td>-0.220486</td>\n",
       "      <td>-0.182775</td>\n",
       "    </tr>\n",
       "    <tr>\n",
       "      <th>3</th>\n",
       "      <td>-0.332312</td>\n",
       "      <td>-0.357739</td>\n",
       "      <td>-0.242985</td>\n",
       "      <td>-0.21801</td>\n",
       "      <td>-0.223835</td>\n",
       "      <td>-0.265801</td>\n",
       "      <td>-0.20727</td>\n",
       "      <td>-0.203353</td>\n",
       "      <td>-0.177332</td>\n",
       "      <td>-0.297352</td>\n",
       "      <td>...</td>\n",
       "      <td>-0.210814</td>\n",
       "      <td>-0.379382</td>\n",
       "      <td>-0.487923</td>\n",
       "      <td>-0.311382</td>\n",
       "      <td>-0.202593</td>\n",
       "      <td>-0.191062</td>\n",
       "      <td>-0.299706</td>\n",
       "      <td>-0.260578</td>\n",
       "      <td>-0.220486</td>\n",
       "      <td>-0.182775</td>\n",
       "    </tr>\n",
       "    <tr>\n",
       "      <th>4</th>\n",
       "      <td>-0.332312</td>\n",
       "      <td>-0.357739</td>\n",
       "      <td>-0.242985</td>\n",
       "      <td>-0.21801</td>\n",
       "      <td>-0.223835</td>\n",
       "      <td>-0.265801</td>\n",
       "      <td>-0.20727</td>\n",
       "      <td>-0.203353</td>\n",
       "      <td>-0.177332</td>\n",
       "      <td>-0.297352</td>\n",
       "      <td>...</td>\n",
       "      <td>-0.210814</td>\n",
       "      <td>-0.379382</td>\n",
       "      <td>2.149024</td>\n",
       "      <td>-0.311382</td>\n",
       "      <td>-0.202593</td>\n",
       "      <td>-0.191062</td>\n",
       "      <td>-0.299706</td>\n",
       "      <td>-0.260578</td>\n",
       "      <td>2.284083</td>\n",
       "      <td>2.395151</td>\n",
       "    </tr>\n",
       "  </tbody>\n",
       "</table>\n",
       "<p>5 rows × 35 columns</p>\n",
       "</div>"
      ],
      "text/plain": [
       "     Orders    Jordan  Gatorade  Samsung      Asus      Udis  \\\n",
       "0 -0.332312 -0.357739 -0.242985 -0.21801 -0.223835 -0.265801   \n",
       "1 -0.332312  1.059984 -0.242985 -0.21801 -0.223835 -0.265801   \n",
       "2 -0.332312  1.059984 -0.242985 -0.21801 -0.223835 -0.265801   \n",
       "3 -0.332312 -0.357739 -0.242985 -0.21801 -0.223835 -0.265801   \n",
       "4 -0.332312 -0.357739 -0.242985 -0.21801 -0.223835 -0.265801   \n",
       "\n",
       "   Mondelez International  Wrangler      Vans      Fila  ...        Mi  \\\n",
       "0                -0.20727  3.446412 -0.177332 -0.297352  ... -0.210814   \n",
       "1                -0.20727 -0.203353 -0.177332 -0.297352  ... -0.210814   \n",
       "2                -0.20727 -0.203353 -0.177332 -0.297352  ... -0.210814   \n",
       "3                -0.20727 -0.203353 -0.177332 -0.297352  ... -0.210814   \n",
       "4                -0.20727 -0.203353 -0.177332 -0.297352  ... -0.210814   \n",
       "\n",
       "         LG      Dior    Scabal  Tommy Hilfiger  Hollister  Forever 21  \\\n",
       "0 -0.379382 -0.487923 -0.311382       -0.202593  -0.191062   -0.299706   \n",
       "1  1.019864 -0.487923 -0.311382       -0.202593  -0.191062   -0.299706   \n",
       "2 -0.379382 -0.487923 -0.311382       -0.202593  -0.191062   -0.299706   \n",
       "3 -0.379382 -0.487923 -0.311382       -0.202593  -0.191062   -0.299706   \n",
       "4 -0.379382  2.149024 -0.311382       -0.202593  -0.191062   -0.299706   \n",
       "\n",
       "   Colavita  Microsoft  Jiffy mix  \n",
       "0 -0.260578  -0.220486  -0.182775  \n",
       "1 -0.260578  -0.220486  -0.182775  \n",
       "2  1.978708  -0.220486  -0.182775  \n",
       "3 -0.260578  -0.220486  -0.182775  \n",
       "4 -0.260578   2.284083   2.395151  \n",
       "\n",
       "[5 rows x 35 columns]"
      ]
     },
     "execution_count": 25,
     "metadata": {},
     "output_type": "execute_result"
    }
   ],
   "source": [
    "# create a dataframe of the scaled features \n",
    "features_scaled = pd.DataFrame( features, columns= data.columns[0:35])\n",
    "\n",
    "# head() to display top five rows\n",
    "features_scaled.head()"
   ]
  },
  {
   "cell_type": "markdown",
   "metadata": {},
   "source": [
    "<a id='model_k'></a>\n",
    "## Build a Model with Multiple K\n"
   ]
  },
  {
   "cell_type": "markdown",
   "metadata": {},
   "source": [
    "**We build our models using the silhouette score method. The silhouette is a method of interpretation and validation of consistency within clusters of data**"
   ]
  },
  {
   "cell_type": "markdown",
   "metadata": {},
   "source": [
    "**We do not know how many clusters give the most useful results. So, we create the clusters varying K, from 4 to 8 and then decide the optimum number of clusters (K) with the help of the silhouette score**"
   ]
  },
  {
   "cell_type": "code",
   "execution_count": 26,
   "metadata": {
    "ExecuteTime": {
     "end_time": "2022-02-25T13:26:20.922289Z",
     "start_time": "2022-02-25T13:25:39.191699Z"
    }
   },
   "outputs": [
    {
     "name": "stdout",
     "output_type": "stream",
     "text": [
      "For n_clusters = 4, silhouette score is 0.28882936660558056)\n",
      "For n_clusters = 5, silhouette score is 0.27345077326493045)\n",
      "For n_clusters = 6, silhouette score is 0.21945733520641614)\n",
      "For n_clusters = 7, silhouette score is 0.20381188273552986)\n",
      "For n_clusters = 8, silhouette score is 0.19969011593446037)\n"
     ]
    }
   ],
   "source": [
    "from sklearn.cluster import KMeans\n",
    "from sklearn.metrics import silhouette_score\n",
    "# create a list for different values of K\n",
    "n_clusters = [4, 5, 6, 7, 8]\n",
    "\n",
    "# use 'for' loop to build the clusters\n",
    "# 'random_state' returns the same sample each time you run the code  \n",
    "# fit and predict on the scaled data\n",
    "# 'silhouette_score' function computes the silhouette score for each K\n",
    "for K in n_clusters :\n",
    "    cluster = KMeans (n_clusters= K, random_state= 10)\n",
    "    predict = cluster.fit_predict(features_scaled)\n",
    "    \n",
    "    score = silhouette_score(features_scaled, predict, random_state= 10)\n",
    "    print (\"For n_clusters = {}, silhouette score is {})\".format(K, score))"
   ]
  },
  {
   "cell_type": "markdown",
   "metadata": {},
   "source": [
    "### elbow method"
   ]
  },
  {
   "cell_type": "code",
   "execution_count": 28,
   "metadata": {},
   "outputs": [
    {
     "data": {
      "image/png": "[encoded data removed]",
      "text/plain": [
       "<Figure size 432x288 with 1 Axes>"
      ]
     },
     "metadata": {},
     "output_type": "display_data"
    }
   ],
   "source": [
    "from sklearn.cluster import KMeans\n",
    "wcss = []\n",
    "for i in range(1,11):\n",
    "    kmeans = KMeans(n_clusters=i, init=\"k-means++\", random_state = 42)\n",
    "    kmeans.fit(df.iloc[:,3:])\n",
    "    wcss.append(kmeans.inertia_)\n",
    "plt.grid()\n",
    "sns.lineplot(x=range(1,11), y=wcss, color=\"red\", marker =\"8\")\n",
    "plt.xlabel(\"K-Value\")\n",
    "plt.xticks(np.arange(11.5))\n",
    "plt.ylabel(\"WCSS\")\n",
    "plt.title(\"Elbow Graph\")\n",
    "plt.show()"
   ]
  },
  {
   "cell_type": "code",
   "execution_count": 29,
   "metadata": {
    "ExecuteTime": {
     "end_time": "2022-02-25T13:26:28.546765Z",
     "start_time": "2022-02-25T13:26:27.965063Z"
    }
   },
   "outputs": [
    {
     "data": {
      "text/plain": [
       "KMeans(n_clusters=4, random_state=10)"
      ]
     },
     "execution_count": 29,
     "metadata": {},
     "output_type": "execute_result"
    }
   ],
   "source": [
    "# building a K-Means model for K = 4\n",
    "model = KMeans(n_clusters= 4, random_state= 10)\n",
    "\n",
    "# fit the model\n",
    "model.fit(features_scaled)"
   ]
  },
  {
   "cell_type": "markdown",
   "metadata": {},
   "source": [
    "**Now, explore these 4 clusters to gain some insights about the clusters**"
   ]
  },
  {
   "cell_type": "markdown",
   "metadata": {},
   "source": [
    "\n",
    "# Retrieve the Clusters\n",
    "\n"
   ]
  },
  {
   "cell_type": "markdown",
   "metadata": {},
   "source": [
    "**As we have built the 4 clusters, now we want to know which customers belong to which cluster. 'model.labels_' can give the cluster number in which the customer belongs**"
   ]
  },
  {
   "cell_type": "code",
   "execution_count": 30,
   "metadata": {
    "ExecuteTime": {
     "end_time": "2022-02-25T13:26:33.105180Z",
     "start_time": "2022-02-25T13:26:33.069042Z"
    }
   },
   "outputs": [
    {
     "data": {
      "text/html": [
       "<div>\n",
       "<style scoped>\n",
       "    .dataframe tbody tr th:only-of-type {\n",
       "        vertical-align: middle;\n",
       "    }\n",
       "\n",
       "    .dataframe tbody tr th {\n",
       "        vertical-align: top;\n",
       "    }\n",
       "\n",
       "    .dataframe thead th {\n",
       "        text-align: right;\n",
       "    }\n",
       "</style>\n",
       "<table border=\"1\" class=\"dataframe\">\n",
       "  <thead>\n",
       "    <tr style=\"text-align: right;\">\n",
       "      <th></th>\n",
       "      <th>Orders</th>\n",
       "      <th>Jordan</th>\n",
       "      <th>Gatorade</th>\n",
       "      <th>Samsung</th>\n",
       "      <th>Asus</th>\n",
       "      <th>Udis</th>\n",
       "      <th>Mondelez International</th>\n",
       "      <th>Wrangler</th>\n",
       "      <th>Vans</th>\n",
       "      <th>Fila</th>\n",
       "      <th>...</th>\n",
       "      <th>Tommy Hilfiger</th>\n",
       "      <th>Hollister</th>\n",
       "      <th>Forever 21</th>\n",
       "      <th>Colavita</th>\n",
       "      <th>Microsoft</th>\n",
       "      <th>Jiffy mix</th>\n",
       "      <th>Kraft</th>\n",
       "      <th>Gender_F</th>\n",
       "      <th>Gender_M</th>\n",
       "      <th>Cluster</th>\n",
       "    </tr>\n",
       "    <tr>\n",
       "      <th>Cust_ID</th>\n",
       "      <th></th>\n",
       "      <th></th>\n",
       "      <th></th>\n",
       "      <th></th>\n",
       "      <th></th>\n",
       "      <th></th>\n",
       "      <th></th>\n",
       "      <th></th>\n",
       "      <th></th>\n",
       "      <th></th>\n",
       "      <th></th>\n",
       "      <th></th>\n",
       "      <th></th>\n",
       "      <th></th>\n",
       "      <th></th>\n",
       "      <th></th>\n",
       "      <th></th>\n",
       "      <th></th>\n",
       "      <th></th>\n",
       "      <th></th>\n",
       "      <th></th>\n",
       "    </tr>\n",
       "  </thead>\n",
       "  <tbody>\n",
       "    <tr>\n",
       "      <th>1</th>\n",
       "      <td>7</td>\n",
       "      <td>0</td>\n",
       "      <td>0</td>\n",
       "      <td>0</td>\n",
       "      <td>0</td>\n",
       "      <td>0</td>\n",
       "      <td>0</td>\n",
       "      <td>0</td>\n",
       "      <td>2</td>\n",
       "      <td>0</td>\n",
       "      <td>...</td>\n",
       "      <td>0</td>\n",
       "      <td>0</td>\n",
       "      <td>0</td>\n",
       "      <td>0</td>\n",
       "      <td>0</td>\n",
       "      <td>0</td>\n",
       "      <td>0</td>\n",
       "      <td>0</td>\n",
       "      <td>1</td>\n",
       "      <td>1</td>\n",
       "    </tr>\n",
       "    <tr>\n",
       "      <th>2</th>\n",
       "      <td>0</td>\n",
       "      <td>0</td>\n",
       "      <td>1</td>\n",
       "      <td>0</td>\n",
       "      <td>0</td>\n",
       "      <td>0</td>\n",
       "      <td>0</td>\n",
       "      <td>0</td>\n",
       "      <td>0</td>\n",
       "      <td>0</td>\n",
       "      <td>...</td>\n",
       "      <td>0</td>\n",
       "      <td>0</td>\n",
       "      <td>0</td>\n",
       "      <td>0</td>\n",
       "      <td>0</td>\n",
       "      <td>0</td>\n",
       "      <td>0</td>\n",
       "      <td>1</td>\n",
       "      <td>0</td>\n",
       "      <td>2</td>\n",
       "    </tr>\n",
       "    <tr>\n",
       "      <th>3</th>\n",
       "      <td>7</td>\n",
       "      <td>0</td>\n",
       "      <td>1</td>\n",
       "      <td>0</td>\n",
       "      <td>0</td>\n",
       "      <td>0</td>\n",
       "      <td>0</td>\n",
       "      <td>0</td>\n",
       "      <td>0</td>\n",
       "      <td>0</td>\n",
       "      <td>...</td>\n",
       "      <td>0</td>\n",
       "      <td>0</td>\n",
       "      <td>0</td>\n",
       "      <td>0</td>\n",
       "      <td>1</td>\n",
       "      <td>0</td>\n",
       "      <td>0</td>\n",
       "      <td>0</td>\n",
       "      <td>1</td>\n",
       "      <td>1</td>\n",
       "    </tr>\n",
       "    <tr>\n",
       "      <th>4</th>\n",
       "      <td>0</td>\n",
       "      <td>0</td>\n",
       "      <td>0</td>\n",
       "      <td>0</td>\n",
       "      <td>0</td>\n",
       "      <td>0</td>\n",
       "      <td>0</td>\n",
       "      <td>0</td>\n",
       "      <td>0</td>\n",
       "      <td>0</td>\n",
       "      <td>...</td>\n",
       "      <td>0</td>\n",
       "      <td>0</td>\n",
       "      <td>0</td>\n",
       "      <td>0</td>\n",
       "      <td>0</td>\n",
       "      <td>0</td>\n",
       "      <td>0</td>\n",
       "      <td>1</td>\n",
       "      <td>0</td>\n",
       "      <td>1</td>\n",
       "    </tr>\n",
       "    <tr>\n",
       "      <th>5</th>\n",
       "      <td>10</td>\n",
       "      <td>0</td>\n",
       "      <td>0</td>\n",
       "      <td>0</td>\n",
       "      <td>0</td>\n",
       "      <td>0</td>\n",
       "      <td>0</td>\n",
       "      <td>0</td>\n",
       "      <td>0</td>\n",
       "      <td>0</td>\n",
       "      <td>...</td>\n",
       "      <td>0</td>\n",
       "      <td>0</td>\n",
       "      <td>0</td>\n",
       "      <td>0</td>\n",
       "      <td>0</td>\n",
       "      <td>1</td>\n",
       "      <td>1</td>\n",
       "      <td>0</td>\n",
       "      <td>0</td>\n",
       "      <td>0</td>\n",
       "    </tr>\n",
       "  </tbody>\n",
       "</table>\n",
       "<p>5 rows × 39 columns</p>\n",
       "</div>"
      ],
      "text/plain": [
       "         Orders  Jordan  Gatorade  Samsung  Asus  Udis  \\\n",
       "Cust_ID                                                  \n",
       "1             7       0         0        0     0     0   \n",
       "2             0       0         1        0     0     0   \n",
       "3             7       0         1        0     0     0   \n",
       "4             0       0         0        0     0     0   \n",
       "5            10       0         0        0     0     0   \n",
       "\n",
       "         Mondelez International  Wrangler  Vans  Fila  ...  Tommy Hilfiger  \\\n",
       "Cust_ID                                                ...                   \n",
       "1                             0         0     2     0  ...               0   \n",
       "2                             0         0     0     0  ...               0   \n",
       "3                             0         0     0     0  ...               0   \n",
       "4                             0         0     0     0  ...               0   \n",
       "5                             0         0     0     0  ...               0   \n",
       "\n",
       "         Hollister  Forever 21  Colavita  Microsoft  Jiffy mix  Kraft  \\\n",
       "Cust_ID                                                                 \n",
       "1                0           0         0          0          0      0   \n",
       "2                0           0         0          0          0      0   \n",
       "3                0           0         0          1          0      0   \n",
       "4                0           0         0          0          0      0   \n",
       "5                0           0         0          0          1      1   \n",
       "\n",
       "         Gender_F  Gender_M  Cluster  \n",
       "Cust_ID                               \n",
       "1               0         1        1  \n",
       "2               1         0        2  \n",
       "3               0         1        1  \n",
       "4               1         0        1  \n",
       "5               0         0        0  \n",
       "\n",
       "[5 rows x 39 columns]"
      ]
     },
     "execution_count": 30,
     "metadata": {},
     "output_type": "execute_result"
    }
   ],
   "source": [
    "data_output = data.copy(deep = True)\n",
    "# add a column 'Cluster' in the data giving cluster number corresponding to each observation\n",
    "data_output['Cluster'] = model.labels_\n",
    "\n",
    "# head() to display top five rows\n",
    "data_output.head()"
   ]
  },
  {
   "cell_type": "markdown",
   "metadata": {},
   "source": [
    "**We have added a column 'cluster' in the dataframe describing the cluster number for each observation**"
   ]
  },
  {
   "cell_type": "markdown",
   "metadata": {},
   "source": [
    "##### Check the size of each cluster"
   ]
  },
  {
   "cell_type": "code",
   "execution_count": 31,
   "metadata": {
    "ExecuteTime": {
     "end_time": "2022-02-25T13:26:37.181343Z",
     "start_time": "2022-02-25T13:26:37.172729Z"
    }
   },
   "outputs": [
    {
     "data": {
      "text/plain": [
       "(array([0, 1, 2, 3]), array([ 1255, 22772,  5272,   701], dtype=int64))"
      ]
     },
     "execution_count": 31,
     "metadata": {},
     "output_type": "execute_result"
    }
   ],
   "source": [
    "# 'return_counts = True' gives the number observation in each cluster\n",
    "np.unique(model.labels_, return_counts=True)                "
   ]
  },
  {
   "cell_type": "code",
   "execution_count": 32,
   "metadata": {
    "ExecuteTime": {
     "end_time": "2022-02-25T13:26:42.131439Z",
     "start_time": "2022-02-25T13:26:42.022352Z"
    }
   },
   "outputs": [
    {
     "data": {
      "image/png": "[encoded data removed]",
      "text/plain": [
       "<Figure size 432x288 with 1 Axes>"
      ]
     },
     "metadata": {},
     "output_type": "display_data"
    }
   ],
   "source": [
    "# use 'seaborn' library to plot a barplot for cluster size\n",
    "sns.countplot(data= data_output, x = 'Cluster')\n",
    "\n",
    "# set the axes and plot labels\n",
    "# set the font size using 'fontsize'\n",
    "plt.title('Cluster Sizes', fontsize = 15)\n",
    "plt.xlabel('Clusters', fontsize = 15)\n",
    "plt.ylabel('No. of Customers', fontsize = 15)\n",
    "\n",
    "# add values in the graph\n",
    "# 'x' and 'y' assigns the position to the text\n",
    "# 's' represents the text on the plot\n",
    "plt.text(x = -0.18, y =2000, s = np.unique(model.labels_, return_counts=True)[1][0])\n",
    "plt.text(x = 0.9, y =2000, s = np.unique(model.labels_, return_counts=True)[1][1])\n",
    "plt.text(x = 1.85, y =2000, s = np.unique(model.labels_, return_counts=True)[1][2])\n",
    "plt.text(x = 2.85, y =2000, s = np.unique(model.labels_, return_counts=True)[1][3])\n",
    "\n",
    "plt.show()"
   ]
  },
  {
   "cell_type": "markdown",
   "metadata": {},
   "source": [
    "#### Cluster Centers\n",
    "\n",
    "The cluster centers can give information about the variables belonging to the clusters\n"
   ]
  },
  {
   "cell_type": "code",
   "execution_count": 33,
   "metadata": {
    "ExecuteTime": {
     "end_time": "2022-02-25T13:26:46.071032Z",
     "start_time": "2022-02-25T13:26:46.067286Z"
    }
   },
   "outputs": [],
   "source": [
    "# form a dataframe containing cluster centers\n",
    "# 'cluster_centers_' returns the co-ordinates of a cluster center \n",
    "centers = pd.DataFrame(model.cluster_centers_, columns=  data_output.columns[1:36])      "
   ]
  },
  {
   "cell_type": "code",
   "execution_count": 34,
   "metadata": {
    "ExecuteTime": {
     "end_time": "2022-02-25T13:26:46.782298Z",
     "start_time": "2022-02-25T13:26:46.749577Z"
    }
   },
   "outputs": [
    {
     "data": {
      "text/html": [
       "<div>\n",
       "<style scoped>\n",
       "    .dataframe tbody tr th:only-of-type {\n",
       "        vertical-align: middle;\n",
       "    }\n",
       "\n",
       "    .dataframe tbody tr th {\n",
       "        vertical-align: top;\n",
       "    }\n",
       "\n",
       "    .dataframe thead th {\n",
       "        text-align: right;\n",
       "    }\n",
       "</style>\n",
       "<table border=\"1\" class=\"dataframe\">\n",
       "  <thead>\n",
       "    <tr style=\"text-align: right;\">\n",
       "      <th></th>\n",
       "      <th>Jordan</th>\n",
       "      <th>Gatorade</th>\n",
       "      <th>Samsung</th>\n",
       "      <th>Asus</th>\n",
       "      <th>Udis</th>\n",
       "      <th>Mondelez International</th>\n",
       "      <th>Wrangler</th>\n",
       "      <th>Vans</th>\n",
       "      <th>Fila</th>\n",
       "      <th>Brooks</th>\n",
       "      <th>...</th>\n",
       "      <th>LG</th>\n",
       "      <th>Dior</th>\n",
       "      <th>Scabal</th>\n",
       "      <th>Tommy Hilfiger</th>\n",
       "      <th>Hollister</th>\n",
       "      <th>Forever 21</th>\n",
       "      <th>Colavita</th>\n",
       "      <th>Microsoft</th>\n",
       "      <th>Jiffy mix</th>\n",
       "      <th>Kraft</th>\n",
       "    </tr>\n",
       "  </thead>\n",
       "  <tbody>\n",
       "    <tr>\n",
       "      <th>0</th>\n",
       "      <td>0.446911</td>\n",
       "      <td>0.464653</td>\n",
       "      <td>0.233811</td>\n",
       "      <td>0.158847</td>\n",
       "      <td>0.102969</td>\n",
       "      <td>0.253960</td>\n",
       "      <td>0.317851</td>\n",
       "      <td>0.385554</td>\n",
       "      <td>0.095476</td>\n",
       "      <td>0.808415</td>\n",
       "      <td>...</td>\n",
       "      <td>1.396351</td>\n",
       "      <td>0.631866</td>\n",
       "      <td>0.290554</td>\n",
       "      <td>1.137030</td>\n",
       "      <td>0.335733</td>\n",
       "      <td>0.417016</td>\n",
       "      <td>1.391345</td>\n",
       "      <td>0.806428</td>\n",
       "      <td>1.575620</td>\n",
       "      <td>1.922702</td>\n",
       "    </tr>\n",
       "    <tr>\n",
       "      <th>1</th>\n",
       "      <td>-0.158476</td>\n",
       "      <td>-0.157536</td>\n",
       "      <td>-0.084381</td>\n",
       "      <td>-0.116934</td>\n",
       "      <td>-0.121153</td>\n",
       "      <td>-0.087155</td>\n",
       "      <td>-0.113422</td>\n",
       "      <td>-0.076786</td>\n",
       "      <td>-0.039016</td>\n",
       "      <td>-0.123452</td>\n",
       "      <td>...</td>\n",
       "      <td>-0.088160</td>\n",
       "      <td>-0.161581</td>\n",
       "      <td>-0.191656</td>\n",
       "      <td>-0.142253</td>\n",
       "      <td>-0.148547</td>\n",
       "      <td>-0.141765</td>\n",
       "      <td>-0.076493</td>\n",
       "      <td>-0.068999</td>\n",
       "      <td>-0.079321</td>\n",
       "      <td>-0.082740</td>\n",
       "    </tr>\n",
       "    <tr>\n",
       "      <th>2</th>\n",
       "      <td>0.594856</td>\n",
       "      <td>0.569990</td>\n",
       "      <td>0.324250</td>\n",
       "      <td>0.474459</td>\n",
       "      <td>0.511302</td>\n",
       "      <td>0.314878</td>\n",
       "      <td>0.430609</td>\n",
       "      <td>0.257115</td>\n",
       "      <td>0.145073</td>\n",
       "      <td>0.358618</td>\n",
       "      <td>...</td>\n",
       "      <td>0.061868</td>\n",
       "      <td>0.565501</td>\n",
       "      <td>0.770176</td>\n",
       "      <td>0.350728</td>\n",
       "      <td>0.586942</td>\n",
       "      <td>0.535840</td>\n",
       "      <td>0.003689</td>\n",
       "      <td>0.104907</td>\n",
       "      <td>-0.020615</td>\n",
       "      <td>-0.087260</td>\n",
       "    </tr>\n",
       "    <tr>\n",
       "      <th>3</th>\n",
       "      <td>-0.116054</td>\n",
       "      <td>0.008321</td>\n",
       "      <td>-0.110823</td>\n",
       "      <td>-0.046447</td>\n",
       "      <td>-0.085908</td>\n",
       "      <td>0.013628</td>\n",
       "      <td>-0.116023</td>\n",
       "      <td>-0.125255</td>\n",
       "      <td>0.007833</td>\n",
       "      <td>-0.127840</td>\n",
       "      <td>...</td>\n",
       "      <td>-0.099359</td>\n",
       "      <td>-0.125881</td>\n",
       "      <td>-0.074137</td>\n",
       "      <td>-0.045926</td>\n",
       "      <td>-0.180266</td>\n",
       "      <td>-0.162539</td>\n",
       "      <td>-0.032771</td>\n",
       "      <td>0.010947</td>\n",
       "      <td>-0.088290</td>\n",
       "      <td>-0.098193</td>\n",
       "    </tr>\n",
       "  </tbody>\n",
       "</table>\n",
       "<p>4 rows × 35 columns</p>\n",
       "</div>"
      ],
      "text/plain": [
       "     Jordan  Gatorade   Samsung      Asus      Udis  Mondelez International  \\\n",
       "0  0.446911  0.464653  0.233811  0.158847  0.102969                0.253960   \n",
       "1 -0.158476 -0.157536 -0.084381 -0.116934 -0.121153               -0.087155   \n",
       "2  0.594856  0.569990  0.324250  0.474459  0.511302                0.314878   \n",
       "3 -0.116054  0.008321 -0.110823 -0.046447 -0.085908                0.013628   \n",
       "\n",
       "   Wrangler      Vans      Fila    Brooks  ...        LG      Dior    Scabal  \\\n",
       "0  0.317851  0.385554  0.095476  0.808415  ...  1.396351  0.631866  0.290554   \n",
       "1 -0.113422 -0.076786 -0.039016 -0.123452  ... -0.088160 -0.161581 -0.191656   \n",
       "2  0.430609  0.257115  0.145073  0.358618  ...  0.061868  0.565501  0.770176   \n",
       "3 -0.116023 -0.125255  0.007833 -0.127840  ... -0.099359 -0.125881 -0.074137   \n",
       "\n",
       "   Tommy Hilfiger  Hollister  Forever 21  Colavita  Microsoft  Jiffy mix  \\\n",
       "0        1.137030   0.335733    0.417016  1.391345   0.806428   1.575620   \n",
       "1       -0.142253  -0.148547   -0.141765 -0.076493  -0.068999  -0.079321   \n",
       "2        0.350728   0.586942    0.535840  0.003689   0.104907  -0.020615   \n",
       "3       -0.045926  -0.180266   -0.162539 -0.032771   0.010947  -0.088290   \n",
       "\n",
       "      Kraft  \n",
       "0  1.922702  \n",
       "1 -0.082740  \n",
       "2 -0.087260  \n",
       "3 -0.098193  \n",
       "\n",
       "[4 rows x 35 columns]"
      ]
     },
     "execution_count": 34,
     "metadata": {},
     "output_type": "execute_result"
    }
   ],
   "source": [
    "# head() to display top five rows\n",
    "centers.head()"
   ]
  },
  {
   "cell_type": "markdown",
   "metadata": {},
   "source": [
    "**Now, extract the variables in each of the clusters and try to name each of the cluster based on the variables**"
   ]
  },
  {
   "cell_type": "markdown",
   "metadata": {},
   "source": [
    "\n",
    "# Clusters Analysis\n"
   ]
  },
  {
   "cell_type": "markdown",
   "metadata": {},
   "source": [
    "\n",
    "##  Analysis of Cluster_1"
   ]
  },
  {
   "cell_type": "markdown",
   "metadata": {},
   "source": [
    "\n",
    "1. Check the size of a cluster\n",
    "2. Sort the variables belonging to the cluster\n",
    "3. Compute the statistical summary for observations in the cluster"
   ]
  },
  {
   "cell_type": "markdown",
   "metadata": {},
   "source": [
    "Sort all the variables based on value for the cluster center (i.e., the variable with the highest value of the cluster center will be on top of the sorted list) and store the first ten variables as a list"
   ]
  },
  {
   "cell_type": "code",
   "execution_count": 35,
   "metadata": {
    "ExecuteTime": {
     "end_time": "2022-02-25T13:26:51.145486Z",
     "start_time": "2022-02-25T13:26:51.138871Z"
    }
   },
   "outputs": [],
   "source": [
    "# sort the variables based on cluster centers\n",
    "cluster_1 = sorted(zip(list(centers.iloc[0,:]), list(centers.columns)), reverse = True)[:10]     "
   ]
  },
  {
   "cell_type": "markdown",
   "metadata": {
    "colab_type": "text",
    "id": "Z0sqy8ChZqhY"
   },
   "source": [
    "**Check size of the cluster**"
   ]
  },
  {
   "cell_type": "code",
   "execution_count": 36,
   "metadata": {
    "ExecuteTime": {
     "end_time": "2022-02-25T13:26:53.958465Z",
     "start_time": "2022-02-25T13:26:53.951749Z"
    },
    "colab": {
     "base_uri": "https://localhost:8080/",
     "height": 34
    },
    "colab_type": "code",
    "id": "MU6T9h6XI7fe",
    "outputId": "6ba2312b-76e0-4ed6-af50-86f9913f6ea1"
   },
   "outputs": [
    {
     "data": {
      "text/plain": [
       "1255"
      ]
     },
     "execution_count": 36,
     "metadata": {},
     "output_type": "execute_result"
    }
   ],
   "source": [
    "# size of a cluster_1\n",
    "np.unique(model.labels_, return_counts=True)[1][0]"
   ]
  },
  {
   "cell_type": "markdown",
   "metadata": {
    "colab_type": "text",
    "id": "YRTrL_mPZqhg"
   },
   "source": [
    "**2. Sort variables belonging to the cluster**"
   ]
  },
  {
   "cell_type": "code",
   "execution_count": 37,
   "metadata": {
    "ExecuteTime": {
     "end_time": "2022-02-25T13:26:56.882643Z",
     "start_time": "2022-02-25T13:26:56.872119Z"
    },
    "colab": {
     "base_uri": "https://localhost:8080/",
     "height": 204
    },
    "colab_type": "code",
    "id": "LR4jNbJDI7fl",
    "outputId": "3168abb5-da97-4f4e-851a-3ae354d36209"
   },
   "outputs": [
    {
     "data": {
      "text/plain": [
       "0            Pladis\n",
       "1          Burberry\n",
       "2             Kraft\n",
       "3       Dairy Queen\n",
       "4         Jiffy mix\n",
       "5                LG\n",
       "6          Colavita\n",
       "7         Pop Chips\n",
       "8      J.M. Smucker\n",
       "9    Tommy Hilfiger\n",
       "Name: 1, dtype: object"
      ]
     },
     "execution_count": 37,
     "metadata": {},
     "output_type": "execute_result"
    }
   ],
   "source": [
    "# retrieve the top 10 variables present in the cluster\n",
    "cluster1_var = pd.DataFrame(cluster_1)[1]\n",
    "cluster1_var"
   ]
  },
  {
   "cell_type": "markdown",
   "metadata": {
    "colab_type": "text",
    "id": "y0s8u563llFM"
   },
   "source": [
    "**Compute the statistical summary for observations in the cluster**"
   ]
  },
  {
   "cell_type": "code",
   "execution_count": 38,
   "metadata": {
    "ExecuteTime": {
     "end_time": "2022-02-25T13:26:59.479036Z",
     "start_time": "2022-02-25T13:26:59.443517Z"
    },
    "colab": {
     "base_uri": "https://localhost:8080/",
     "height": 297
    },
    "colab_type": "code",
    "id": "thAtj6DkI7ft",
    "outputId": "fc04d8f2-c451-4cf5-f69c-8d8d4662232a",
    "scrolled": true
   },
   "outputs": [
    {
     "data": {
      "text/html": [
       "<div>\n",
       "<style scoped>\n",
       "    .dataframe tbody tr th:only-of-type {\n",
       "        vertical-align: middle;\n",
       "    }\n",
       "\n",
       "    .dataframe tbody tr th {\n",
       "        vertical-align: top;\n",
       "    }\n",
       "\n",
       "    .dataframe thead th {\n",
       "        text-align: right;\n",
       "    }\n",
       "</style>\n",
       "<table border=\"1\" class=\"dataframe\">\n",
       "  <thead>\n",
       "    <tr style=\"text-align: right;\">\n",
       "      <th></th>\n",
       "      <th>Orders</th>\n",
       "      <th>Gender_F</th>\n",
       "      <th>Gender_M</th>\n",
       "      <th>Cluster</th>\n",
       "    </tr>\n",
       "  </thead>\n",
       "  <tbody>\n",
       "    <tr>\n",
       "      <th>count</th>\n",
       "      <td>1255.000000</td>\n",
       "      <td>1255.000000</td>\n",
       "      <td>1255.000000</td>\n",
       "      <td>1255.0</td>\n",
       "    </tr>\n",
       "    <tr>\n",
       "      <th>mean</th>\n",
       "      <td>4.146614</td>\n",
       "      <td>0.821514</td>\n",
       "      <td>0.120319</td>\n",
       "      <td>0.0</td>\n",
       "    </tr>\n",
       "    <tr>\n",
       "      <th>std</th>\n",
       "      <td>3.630131</td>\n",
       "      <td>0.383074</td>\n",
       "      <td>0.325464</td>\n",
       "      <td>0.0</td>\n",
       "    </tr>\n",
       "    <tr>\n",
       "      <th>min</th>\n",
       "      <td>0.000000</td>\n",
       "      <td>0.000000</td>\n",
       "      <td>0.000000</td>\n",
       "      <td>0.0</td>\n",
       "    </tr>\n",
       "    <tr>\n",
       "      <th>25%</th>\n",
       "      <td>1.000000</td>\n",
       "      <td>1.000000</td>\n",
       "      <td>0.000000</td>\n",
       "      <td>0.0</td>\n",
       "    </tr>\n",
       "    <tr>\n",
       "      <th>50%</th>\n",
       "      <td>4.000000</td>\n",
       "      <td>1.000000</td>\n",
       "      <td>0.000000</td>\n",
       "      <td>0.0</td>\n",
       "    </tr>\n",
       "    <tr>\n",
       "      <th>75%</th>\n",
       "      <td>7.000000</td>\n",
       "      <td>1.000000</td>\n",
       "      <td>0.000000</td>\n",
       "      <td>0.0</td>\n",
       "    </tr>\n",
       "    <tr>\n",
       "      <th>max</th>\n",
       "      <td>12.000000</td>\n",
       "      <td>1.000000</td>\n",
       "      <td>1.000000</td>\n",
       "      <td>0.0</td>\n",
       "    </tr>\n",
       "  </tbody>\n",
       "</table>\n",
       "</div>"
      ],
      "text/plain": [
       "            Orders     Gender_F     Gender_M  Cluster\n",
       "count  1255.000000  1255.000000  1255.000000   1255.0\n",
       "mean      4.146614     0.821514     0.120319      0.0\n",
       "std       3.630131     0.383074     0.325464      0.0\n",
       "min       0.000000     0.000000     0.000000      0.0\n",
       "25%       1.000000     1.000000     0.000000      0.0\n",
       "50%       4.000000     1.000000     0.000000      0.0\n",
       "75%       7.000000     1.000000     0.000000      0.0\n",
       "max      12.000000     1.000000     1.000000      0.0"
      ]
     },
     "execution_count": 38,
     "metadata": {},
     "output_type": "execute_result"
    }
   ],
   "source": [
    "# get summary for observations in the cluster\n",
    "# consider the number of orders and customer gender for cluster analysis\n",
    "data_output[['Orders', 'Gender_F', 'Gender_M', 'Cluster']][data_output.Cluster == 0].describe()"
   ]
  },
  {
   "cell_type": "markdown",
   "metadata": {
    "colab_type": "text",
    "id": "LeHBbmWXmKJ7"
   },
   "source": [
    "The proportion of both male and female customers is proportionate in this cluster as compared to the overall gender proportion in the dataset"
   ]
  },
  {
   "cell_type": "markdown",
   "metadata": {
    "colab_type": "text",
    "id": "uPuX4gL1I7fx"
   },
   "source": [
    " \n",
    "## Analysis of Cluster_2"
   ]
  },
  {
   "cell_type": "code",
   "execution_count": 39,
   "metadata": {
    "ExecuteTime": {
     "end_time": "2022-02-25T13:27:02.531349Z",
     "start_time": "2022-02-25T13:27:02.525100Z"
    },
    "colab": {},
    "colab_type": "code",
    "id": "5ZYj8eMqI7fy",
    "scrolled": true
   },
   "outputs": [],
   "source": [
    "# sort the variables based on cluster centers\n",
    "cluster_2 = sorted(zip(list(centers.iloc[1,:]), list(centers.columns)), reverse = True)[:10]     "
   ]
  },
  {
   "cell_type": "markdown",
   "metadata": {
    "colab_type": "text",
    "id": "Or4vZZfdoLOs"
   },
   "source": [
    "**1. Check the size of a cluster**"
   ]
  },
  {
   "cell_type": "code",
   "execution_count": 40,
   "metadata": {
    "ExecuteTime": {
     "end_time": "2022-02-25T13:27:05.359645Z",
     "start_time": "2022-02-25T13:27:05.349595Z"
    },
    "colab": {
     "base_uri": "https://localhost:8080/",
     "height": 34
    },
    "colab_type": "code",
    "id": "79bSPJSwI7f1",
    "outputId": "0559f516-7e27-4fb2-cd5b-4914a8d5bc68"
   },
   "outputs": [
    {
     "data": {
      "text/plain": [
       "22772"
      ]
     },
     "execution_count": 40,
     "metadata": {},
     "output_type": "execute_result"
    }
   ],
   "source": [
    "# size of a cluster_2\n",
    "np.unique(model.labels_, return_counts=True)[1][1]"
   ]
  },
  {
   "cell_type": "markdown",
   "metadata": {
    "colab_type": "text",
    "id": "Tq0-GoNjZqh6"
   },
   "source": [
    "561 customers belong to cluster_2. This is the smallest cluster"
   ]
  },
  {
   "cell_type": "markdown",
   "metadata": {
    "colab_type": "text",
    "id": "Y9S8kG2KZqh7"
   },
   "source": [
    "**2. Sort variables belonging to the cluster**"
   ]
  },
  {
   "cell_type": "code",
   "execution_count": 41,
   "metadata": {
    "ExecuteTime": {
     "end_time": "2022-02-25T13:27:09.456515Z",
     "start_time": "2022-02-25T13:27:09.444252Z"
    },
    "colab": {
     "base_uri": "https://localhost:8080/",
     "height": 204
    },
    "colab_type": "code",
    "id": "2ZYrFmFXI7f9",
    "outputId": "0c265cc2-ce5f-4ff1-b8ac-b27817340ca5"
   },
   "outputs": [
    {
     "data": {
      "text/plain": [
       "0                IBM\n",
       "1               Fila\n",
       "2    Hewlett Packard\n",
       "3             Compaq\n",
       "4              Fendi\n",
       "5          Microsoft\n",
       "6           Colavita\n",
       "7               Vans\n",
       "8          Jiffy mix\n",
       "9              Kraft\n",
       "Name: 1, dtype: object"
      ]
     },
     "execution_count": 41,
     "metadata": {},
     "output_type": "execute_result"
    }
   ],
   "source": [
    "# retrieve the top 10 variables present in the cluster\n",
    "cluster2_var = pd.DataFrame(cluster_2)[1]\n",
    "cluster2_var        "
   ]
  },
  {
   "cell_type": "markdown",
   "metadata": {
    "colab_type": "text",
    "id": "wzY4D6hYo0aE"
   },
   "source": [
    "**3. Compute the statistical summary for observations in the cluster**"
   ]
  },
  {
   "cell_type": "code",
   "execution_count": 42,
   "metadata": {
    "ExecuteTime": {
     "end_time": "2022-02-25T13:27:12.768585Z",
     "start_time": "2022-02-25T13:27:12.732814Z"
    },
    "colab": {
     "base_uri": "https://localhost:8080/",
     "height": 297
    },
    "colab_type": "code",
    "id": "8--291MCI7gA",
    "outputId": "5021b262-90cb-4f77-89a1-c49db0b3f79f"
   },
   "outputs": [
    {
     "data": {
      "text/html": [
       "<div>\n",
       "<style scoped>\n",
       "    .dataframe tbody tr th:only-of-type {\n",
       "        vertical-align: middle;\n",
       "    }\n",
       "\n",
       "    .dataframe tbody tr th {\n",
       "        vertical-align: top;\n",
       "    }\n",
       "\n",
       "    .dataframe thead th {\n",
       "        text-align: right;\n",
       "    }\n",
       "</style>\n",
       "<table border=\"1\" class=\"dataframe\">\n",
       "  <thead>\n",
       "    <tr style=\"text-align: right;\">\n",
       "      <th></th>\n",
       "      <th>Orders</th>\n",
       "      <th>Gender_F</th>\n",
       "      <th>Gender_M</th>\n",
       "      <th>Cluster</th>\n",
       "    </tr>\n",
       "  </thead>\n",
       "  <tbody>\n",
       "    <tr>\n",
       "      <th>count</th>\n",
       "      <td>22772.000000</td>\n",
       "      <td>22772.000000</td>\n",
       "      <td>22772.000000</td>\n",
       "      <td>22772.0</td>\n",
       "    </tr>\n",
       "    <tr>\n",
       "      <th>mean</th>\n",
       "      <td>4.096829</td>\n",
       "      <td>0.705691</td>\n",
       "      <td>0.195547</td>\n",
       "      <td>1.0</td>\n",
       "    </tr>\n",
       "    <tr>\n",
       "      <th>std</th>\n",
       "      <td>3.606516</td>\n",
       "      <td>0.455741</td>\n",
       "      <td>0.396630</td>\n",
       "      <td>0.0</td>\n",
       "    </tr>\n",
       "    <tr>\n",
       "      <th>min</th>\n",
       "      <td>0.000000</td>\n",
       "      <td>0.000000</td>\n",
       "      <td>0.000000</td>\n",
       "      <td>1.0</td>\n",
       "    </tr>\n",
       "    <tr>\n",
       "      <th>25%</th>\n",
       "      <td>0.000000</td>\n",
       "      <td>0.000000</td>\n",
       "      <td>0.000000</td>\n",
       "      <td>1.0</td>\n",
       "    </tr>\n",
       "    <tr>\n",
       "      <th>50%</th>\n",
       "      <td>4.000000</td>\n",
       "      <td>1.000000</td>\n",
       "      <td>0.000000</td>\n",
       "      <td>1.0</td>\n",
       "    </tr>\n",
       "    <tr>\n",
       "      <th>75%</th>\n",
       "      <td>7.000000</td>\n",
       "      <td>1.000000</td>\n",
       "      <td>0.000000</td>\n",
       "      <td>1.0</td>\n",
       "    </tr>\n",
       "    <tr>\n",
       "      <th>max</th>\n",
       "      <td>12.000000</td>\n",
       "      <td>1.000000</td>\n",
       "      <td>1.000000</td>\n",
       "      <td>1.0</td>\n",
       "    </tr>\n",
       "  </tbody>\n",
       "</table>\n",
       "</div>"
      ],
      "text/plain": [
       "             Orders      Gender_F      Gender_M  Cluster\n",
       "count  22772.000000  22772.000000  22772.000000  22772.0\n",
       "mean       4.096829      0.705691      0.195547      1.0\n",
       "std        3.606516      0.455741      0.396630      0.0\n",
       "min        0.000000      0.000000      0.000000      1.0\n",
       "25%        0.000000      0.000000      0.000000      1.0\n",
       "50%        4.000000      1.000000      0.000000      1.0\n",
       "75%        7.000000      1.000000      0.000000      1.0\n",
       "max       12.000000      1.000000      1.000000      1.0"
      ]
     },
     "execution_count": 42,
     "metadata": {},
     "output_type": "execute_result"
    }
   ],
   "source": [
    "# get summary for observations in the cluster\n",
    "# consider the number of orders and customer gender for cluster analysis\n",
    "data_output[['Orders', 'Gender_F', 'Gender_M', 'Cluster']][data_output.Cluster == 1].describe()"
   ]
  },
  {
   "cell_type": "markdown",
   "metadata": {
    "colab_type": "text",
    "id": "7asGBWbnpHqm"
   },
   "source": [
    "This cluster contains highest male population among all the clusters. But, there is high deviation in both the genders"
   ]
  },
  {
   "cell_type": "markdown",
   "metadata": {
    "colab_type": "text",
    "id": "RK2KDF28I7gD"
   },
   "source": [
    "<a id='cluster_3'></a>\n",
    "## 6.3 Analysis of Cluster_3"
   ]
  },
  {
   "cell_type": "code",
   "execution_count": 43,
   "metadata": {
    "ExecuteTime": {
     "end_time": "2022-02-25T13:27:15.639795Z",
     "start_time": "2022-02-25T13:27:15.635384Z"
    },
    "colab": {},
    "colab_type": "code",
    "id": "OhH1bQ-JI7gE"
   },
   "outputs": [],
   "source": [
    "# sort the variables based on cluster centers\n",
    "cluster_3 = sorted(zip(list(centers.iloc[2,:]), list(centers.columns)), reverse = True)[:10]   "
   ]
  },
  {
   "cell_type": "markdown",
   "metadata": {
    "colab_type": "text",
    "id": "oCXffplCu62H"
   },
   "source": [
    "**1. Check the size of a cluster**"
   ]
  },
  {
   "cell_type": "code",
   "execution_count": 44,
   "metadata": {
    "ExecuteTime": {
     "end_time": "2022-02-25T13:27:17.845746Z",
     "start_time": "2022-02-25T13:27:17.839678Z"
    },
    "colab": {
     "base_uri": "https://localhost:8080/",
     "height": 34
    },
    "colab_type": "code",
    "id": "ostrN65QI7gI",
    "outputId": "32c2b70c-d54b-40ed-d7ff-98db164435da"
   },
   "outputs": [
    {
     "data": {
      "text/plain": [
       "5272"
      ]
     },
     "execution_count": 44,
     "metadata": {},
     "output_type": "execute_result"
    }
   ],
   "source": [
    "# size of cluster_3\n",
    "np.unique(model.labels_, return_counts=True)[1][2]"
   ]
  },
  {
   "cell_type": "markdown",
   "metadata": {
    "colab_type": "text",
    "id": "DWhDM0Q_Zqio"
   },
   "source": [
    "**2. Sort variables belonging to the cluster**"
   ]
  },
  {
   "cell_type": "code",
   "execution_count": 45,
   "metadata": {
    "ExecuteTime": {
     "end_time": "2022-02-25T13:27:24.780365Z",
     "start_time": "2022-02-25T13:27:24.769188Z"
    },
    "colab": {
     "base_uri": "https://localhost:8080/",
     "height": 204
    },
    "colab_type": "code",
    "id": "glEmRiyzI7gN",
    "outputId": "3c623d7a-6678-43f4-9e95-db8e8f436723"
   },
   "outputs": [
    {
     "data": {
      "text/plain": [
       "0        Scabal\n",
       "1        Jordan\n",
       "2     Hollister\n",
       "3      Gatorade\n",
       "4          Dior\n",
       "5           H&M\n",
       "6    Forever 21\n",
       "7          Udis\n",
       "8        Huawei\n",
       "9          Asus\n",
       "Name: 1, dtype: object"
      ]
     },
     "execution_count": 45,
     "metadata": {},
     "output_type": "execute_result"
    }
   ],
   "source": [
    "# retrieve the top 10 variables present in the cluster\n",
    "cluster3_var = pd.DataFrame(cluster_3)[1]\n",
    "cluster3_var             "
   ]
  },
  {
   "cell_type": "markdown",
   "metadata": {
    "colab_type": "text",
    "id": "DC8USaBDwOLd"
   },
   "source": [
    "**3. Compute the statistical summary for observations in the cluster**"
   ]
  },
  {
   "cell_type": "code",
   "execution_count": 46,
   "metadata": {
    "ExecuteTime": {
     "end_time": "2022-02-25T13:27:27.587087Z",
     "start_time": "2022-02-25T13:27:27.555025Z"
    },
    "colab": {
     "base_uri": "https://localhost:8080/",
     "height": 297
    },
    "colab_type": "code",
    "id": "EInU3Yf9I7gQ",
    "outputId": "68cc67e9-4e4f-4052-8849-fb21e6303dfd"
   },
   "outputs": [
    {
     "data": {
      "text/html": [
       "<div>\n",
       "<style scoped>\n",
       "    .dataframe tbody tr th:only-of-type {\n",
       "        vertical-align: middle;\n",
       "    }\n",
       "\n",
       "    .dataframe tbody tr th {\n",
       "        vertical-align: top;\n",
       "    }\n",
       "\n",
       "    .dataframe thead th {\n",
       "        text-align: right;\n",
       "    }\n",
       "</style>\n",
       "<table border=\"1\" class=\"dataframe\">\n",
       "  <thead>\n",
       "    <tr style=\"text-align: right;\">\n",
       "      <th></th>\n",
       "      <th>Orders</th>\n",
       "      <th>Gender_F</th>\n",
       "      <th>Gender_M</th>\n",
       "      <th>Cluster</th>\n",
       "    </tr>\n",
       "  </thead>\n",
       "  <tbody>\n",
       "    <tr>\n",
       "      <th>count</th>\n",
       "      <td>5272.000000</td>\n",
       "      <td>5272.000000</td>\n",
       "      <td>5272.000000</td>\n",
       "      <td>5272.0</td>\n",
       "    </tr>\n",
       "    <tr>\n",
       "      <th>mean</th>\n",
       "      <td>4.459598</td>\n",
       "      <td>0.845220</td>\n",
       "      <td>0.089340</td>\n",
       "      <td>2.0</td>\n",
       "    </tr>\n",
       "    <tr>\n",
       "      <th>std</th>\n",
       "      <td>3.503566</td>\n",
       "      <td>0.361729</td>\n",
       "      <td>0.285261</td>\n",
       "      <td>0.0</td>\n",
       "    </tr>\n",
       "    <tr>\n",
       "      <th>min</th>\n",
       "      <td>0.000000</td>\n",
       "      <td>0.000000</td>\n",
       "      <td>0.000000</td>\n",
       "      <td>2.0</td>\n",
       "    </tr>\n",
       "    <tr>\n",
       "      <th>25%</th>\n",
       "      <td>1.000000</td>\n",
       "      <td>1.000000</td>\n",
       "      <td>0.000000</td>\n",
       "      <td>2.0</td>\n",
       "    </tr>\n",
       "    <tr>\n",
       "      <th>50%</th>\n",
       "      <td>4.000000</td>\n",
       "      <td>1.000000</td>\n",
       "      <td>0.000000</td>\n",
       "      <td>2.0</td>\n",
       "    </tr>\n",
       "    <tr>\n",
       "      <th>75%</th>\n",
       "      <td>7.000000</td>\n",
       "      <td>1.000000</td>\n",
       "      <td>0.000000</td>\n",
       "      <td>2.0</td>\n",
       "    </tr>\n",
       "    <tr>\n",
       "      <th>max</th>\n",
       "      <td>12.000000</td>\n",
       "      <td>1.000000</td>\n",
       "      <td>1.000000</td>\n",
       "      <td>2.0</td>\n",
       "    </tr>\n",
       "  </tbody>\n",
       "</table>\n",
       "</div>"
      ],
      "text/plain": [
       "            Orders     Gender_F     Gender_M  Cluster\n",
       "count  5272.000000  5272.000000  5272.000000   5272.0\n",
       "mean      4.459598     0.845220     0.089340      2.0\n",
       "std       3.503566     0.361729     0.285261      0.0\n",
       "min       0.000000     0.000000     0.000000      2.0\n",
       "25%       1.000000     1.000000     0.000000      2.0\n",
       "50%       4.000000     1.000000     0.000000      2.0\n",
       "75%       7.000000     1.000000     0.000000      2.0\n",
       "max      12.000000     1.000000     1.000000      2.0"
      ]
     },
     "execution_count": 46,
     "metadata": {},
     "output_type": "execute_result"
    }
   ],
   "source": [
    "# get summary for observations in the cluster\n",
    "# consider the number of orders and customer gender for cluster analysis\n",
    "data_output[['Orders', 'Gender_F', 'Gender_M', 'Cluster']][data_output.Cluster == 2].describe()"
   ]
  },
  {
   "cell_type": "markdown",
   "metadata": {
    "colab_type": "text",
    "id": "YdAd0yqkvyM8"
   },
   "source": [
    "\n",
    "## Analysis of Cluster_4"
   ]
  },
  {
   "cell_type": "code",
   "execution_count": 47,
   "metadata": {
    "ExecuteTime": {
     "end_time": "2022-02-25T13:27:30.067069Z",
     "start_time": "2022-02-25T13:27:30.060221Z"
    },
    "colab": {},
    "colab_type": "code",
    "id": "HlGJybAlvyNW"
   },
   "outputs": [],
   "source": [
    "# sort the variables based on cluster centers\n",
    "cluster_4 = sorted(zip(list(centers.iloc[3,:]), list(centers.columns)), reverse=True)[:10]   "
   ]
  },
  {
   "cell_type": "markdown",
   "metadata": {
    "colab_type": "text",
    "id": "wvXWez9cvyNi"
   },
   "source": [
    "**1. Check the size of a cluster**"
   ]
  },
  {
   "cell_type": "code",
   "execution_count": 48,
   "metadata": {
    "ExecuteTime": {
     "end_time": "2022-02-25T13:27:31.798973Z",
     "start_time": "2022-02-25T13:27:31.791998Z"
    },
    "colab": {
     "base_uri": "https://localhost:8080/",
     "height": 34
    },
    "colab_type": "code",
    "id": "U2_Qv3TwvyNk",
    "outputId": "b4cf4ddc-e97a-4604-9c8b-04f41198863f"
   },
   "outputs": [
    {
     "data": {
      "text/plain": [
       "701"
      ]
     },
     "execution_count": 48,
     "metadata": {},
     "output_type": "execute_result"
    }
   ],
   "source": [
    "# size of cluster_4\n",
    "np.unique(model.labels_, return_counts=True)[1][3]"
   ]
  },
  {
   "cell_type": "markdown",
   "metadata": {
    "colab_type": "text",
    "id": "iP3ZxCE4vyNv"
   },
   "source": [
    "**2. Sort variables belonging to the cluster**"
   ]
  },
  {
   "cell_type": "code",
   "execution_count": 49,
   "metadata": {
    "ExecuteTime": {
     "end_time": "2022-02-25T13:27:34.684784Z",
     "start_time": "2022-02-25T13:27:34.672371Z"
    },
    "colab": {
     "base_uri": "https://localhost:8080/",
     "height": 204
    },
    "colab_type": "code",
    "id": "I7FW3RIDvyNx",
    "outputId": "a67b6dd9-fe8a-44d9-ad5f-4e423d19093c"
   },
   "outputs": [
    {
     "data": {
      "text/plain": [
       "0                   Siemens\n",
       "1                     Asics\n",
       "2              J.M. Smucker\n",
       "3                 Pop Chips\n",
       "4                   Juniper\n",
       "5                    Huawei\n",
       "6                        Mi\n",
       "7                    Compaq\n",
       "8    Mondelez International\n",
       "9                 Microsoft\n",
       "Name: 1, dtype: object"
      ]
     },
     "execution_count": 49,
     "metadata": {},
     "output_type": "execute_result"
    }
   ],
   "source": [
    "# retrieve the top 10 variables present in the cluster\n",
    "cluster4_var = pd.DataFrame(cluster_4)[1]\n",
    "cluster4_var             "
   ]
  },
  {
   "cell_type": "markdown",
   "metadata": {
    "colab_type": "text",
    "id": "bmhNBSRnvyN6"
   },
   "source": [
    "**3. Compute the statistical summary for observations in the cluster**"
   ]
  },
  {
   "cell_type": "code",
   "execution_count": 50,
   "metadata": {
    "ExecuteTime": {
     "end_time": "2022-02-25T13:27:37.576373Z",
     "start_time": "2022-02-25T13:27:37.542982Z"
    },
    "colab": {
     "base_uri": "https://localhost:8080/",
     "height": 297
    },
    "colab_type": "code",
    "id": "3JSwqbdfvyN_",
    "outputId": "eab52660-2f71-4c66-8952-497c265da035",
    "scrolled": true
   },
   "outputs": [
    {
     "data": {
      "text/html": [
       "<div>\n",
       "<style scoped>\n",
       "    .dataframe tbody tr th:only-of-type {\n",
       "        vertical-align: middle;\n",
       "    }\n",
       "\n",
       "    .dataframe tbody tr th {\n",
       "        vertical-align: top;\n",
       "    }\n",
       "\n",
       "    .dataframe thead th {\n",
       "        text-align: right;\n",
       "    }\n",
       "</style>\n",
       "<table border=\"1\" class=\"dataframe\">\n",
       "  <thead>\n",
       "    <tr style=\"text-align: right;\">\n",
       "      <th></th>\n",
       "      <th>Orders</th>\n",
       "      <th>Gender_F</th>\n",
       "      <th>Gender_M</th>\n",
       "      <th>Cluster</th>\n",
       "    </tr>\n",
       "  </thead>\n",
       "  <tbody>\n",
       "    <tr>\n",
       "      <th>count</th>\n",
       "      <td>701.000000</td>\n",
       "      <td>701.000000</td>\n",
       "      <td>701.000000</td>\n",
       "      <td>701.0</td>\n",
       "    </tr>\n",
       "    <tr>\n",
       "      <th>mean</th>\n",
       "      <td>4.402282</td>\n",
       "      <td>0.708987</td>\n",
       "      <td>0.209700</td>\n",
       "      <td>3.0</td>\n",
       "    </tr>\n",
       "    <tr>\n",
       "      <th>std</th>\n",
       "      <td>3.522693</td>\n",
       "      <td>0.454554</td>\n",
       "      <td>0.407385</td>\n",
       "      <td>0.0</td>\n",
       "    </tr>\n",
       "    <tr>\n",
       "      <th>min</th>\n",
       "      <td>0.000000</td>\n",
       "      <td>0.000000</td>\n",
       "      <td>0.000000</td>\n",
       "      <td>3.0</td>\n",
       "    </tr>\n",
       "    <tr>\n",
       "      <th>25%</th>\n",
       "      <td>1.000000</td>\n",
       "      <td>0.000000</td>\n",
       "      <td>0.000000</td>\n",
       "      <td>3.0</td>\n",
       "    </tr>\n",
       "    <tr>\n",
       "      <th>50%</th>\n",
       "      <td>4.000000</td>\n",
       "      <td>1.000000</td>\n",
       "      <td>0.000000</td>\n",
       "      <td>3.0</td>\n",
       "    </tr>\n",
       "    <tr>\n",
       "      <th>75%</th>\n",
       "      <td>7.000000</td>\n",
       "      <td>1.000000</td>\n",
       "      <td>0.000000</td>\n",
       "      <td>3.0</td>\n",
       "    </tr>\n",
       "    <tr>\n",
       "      <th>max</th>\n",
       "      <td>12.000000</td>\n",
       "      <td>1.000000</td>\n",
       "      <td>1.000000</td>\n",
       "      <td>3.0</td>\n",
       "    </tr>\n",
       "  </tbody>\n",
       "</table>\n",
       "</div>"
      ],
      "text/plain": [
       "           Orders    Gender_F    Gender_M  Cluster\n",
       "count  701.000000  701.000000  701.000000    701.0\n",
       "mean     4.402282    0.708987    0.209700      3.0\n",
       "std      3.522693    0.454554    0.407385      0.0\n",
       "min      0.000000    0.000000    0.000000      3.0\n",
       "25%      1.000000    0.000000    0.000000      3.0\n",
       "50%      4.000000    1.000000    0.000000      3.0\n",
       "75%      7.000000    1.000000    0.000000      3.0\n",
       "max     12.000000    1.000000    1.000000      3.0"
      ]
     },
     "execution_count": 50,
     "metadata": {},
     "output_type": "execute_result"
    }
   ],
   "source": [
    "# get summary for observations in the cluster\n",
    "# consider the number of orders and customer gender for cluster analysis\n",
    "data_output[['Orders', 'Gender_F', 'Gender_M', 'Cluster']][data_output.Cluster==3].describe()"
   ]
  },
  {
   "cell_type": "markdown",
   "metadata": {
    "colab_type": "text",
    "id": "um9pZxTAaYXs"
   },
   "source": [
    "\n",
    "## Conclusion"
   ]
  },
  {
   "cell_type": "markdown",
   "metadata": {},
   "source": [
    "**In this case study, we have grouped the customers' dataset into 4 clusters based on the brands they have searched on e-commerce sites. We have used the silhouette score method to find the optimum number of clusters and decided k = 4 as the best pick after analyzing the silhouette score.**\n",
    "\n",
    "**After applying the K-means algorithm with an optimized number of clusters, we segment the customers under 'Grocery', 'Apparels', 'Electronics', and 'Basket class' categories. These clusters give information about the interest of the customer in the different brands. This type of segmentation can help the e-commerce companies, to know the customer's choices and they can provide more accurate recommendations to the customers**"
   ]
  },
  {
   "cell_type": "code",
   "execution_count": null,
   "metadata": {},
   "outputs": [],
   "source": []
  }
 ],
 "metadata": {
  "kernelspec": {
   "display_name": "Python 3",
   "language": "python",
   "name": "python3"
  },
  "language_info": {
   "codemirror_mode": {
    "name": "ipython",
    "version": 3
   },
   "file_extension": ".py",
   "mimetype": "text/x-python",
   "name": "python",
   "nbconvert_exporter": "python",
   "pygments_lexer": "ipython3",
   "version": "3.8.5"
  },
  "toc": {
   "base_numbering": 1,
   "nav_menu": {},
   "number_sections": false,
   "sideBar": true,
   "skip_h1_title": false,
   "title_cell": "Table of Contents",
   "title_sidebar": "Contents",
   "toc_cell": false,
   "toc_position": {},
   "toc_section_display": true,
   "toc_window_display": false
  }
 },
 "nbformat": 4,
 "nbformat_minor": 2
}
